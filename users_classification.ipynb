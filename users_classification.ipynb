{
 "cells": [
  {
   "cell_type": "markdown",
   "metadata": {},
   "source": [
    "# Carga de librerias"
   ]
  },
  {
   "cell_type": "code",
   "execution_count": 699,
   "metadata": {},
   "outputs": [],
   "source": [
    "import pandas as pd\n",
    "import numpy as np\n",
    "\n",
    "# Visualitation\n",
    "import matplotlib.pyplot as plt\n",
    "import seaborn as sns\n",
    "\n",
    "from sklearn.pipeline import Pipeline\n",
    "from sklearn.impute import SimpleImputer\n",
    "from sklearn.preprocessing import OneHotEncoder, MinMaxScaler\n",
    "import joblib\n",
    "import gzip\n",
    "\n",
    "import json"
   ]
  },
  {
   "cell_type": "markdown",
   "metadata": {},
   "source": [
    "# Importación de datos"
   ]
  },
  {
   "cell_type": "code",
   "execution_count": 700,
   "metadata": {},
   "outputs": [
    {
     "data": {
      "text/plain": [
       "Index(['ID', 'label', 'edad', 'montoSolicitado', 'montoOtorgado', 'genero',\n",
       "       'quincenal', 'dependientesEconomicos', 'nivelEstudio', 'fico',\n",
       "       'ingresosMensuales', 'gastosMensuales', 'emailScore', 'browser',\n",
       "       'NUMTDC_AV'],\n",
       "      dtype='object')"
      ]
     },
     "execution_count": 700,
     "metadata": {},
     "output_type": "execute_result"
    }
   ],
   "source": [
    "data_raw = pd.read_csv('raw_data/Train Data.csv')\n",
    "data_raw.columns"
   ]
  },
  {
   "cell_type": "markdown",
   "metadata": {},
   "source": [
    "# EDA"
   ]
  },
  {
   "cell_type": "code",
   "execution_count": 701,
   "metadata": {},
   "outputs": [
    {
     "data": {
      "text/plain": [
       "(1000, 15)"
      ]
     },
     "execution_count": 701,
     "metadata": {},
     "output_type": "execute_result"
    }
   ],
   "source": [
    "data_raw.shape"
   ]
  },
  {
   "cell_type": "code",
   "execution_count": 702,
   "metadata": {},
   "outputs": [
    {
     "data": {
      "text/plain": [
       "ID                          int64\n",
       "label                       int64\n",
       "edad                      float64\n",
       "montoSolicitado           float64\n",
       "montoOtorgado             float64\n",
       "genero                     object\n",
       "quincenal                   int64\n",
       "dependientesEconomicos      int64\n",
       "nivelEstudio               object\n",
       "fico                        int64\n",
       "ingresosMensuales         float64\n",
       "gastosMensuales             int64\n",
       "emailScore                float64\n",
       "browser                    object\n",
       "NUMTDC_AV                 float64\n",
       "dtype: object"
      ]
     },
     "execution_count": 702,
     "metadata": {},
     "output_type": "execute_result"
    }
   ],
   "source": [
    "data_raw.dtypes"
   ]
  },
  {
   "cell_type": "code",
   "execution_count": 703,
   "metadata": {},
   "outputs": [
    {
     "data": {
      "text/html": [
       "<div>\n",
       "<style scoped>\n",
       "    .dataframe tbody tr th:only-of-type {\n",
       "        vertical-align: middle;\n",
       "    }\n",
       "\n",
       "    .dataframe tbody tr th {\n",
       "        vertical-align: top;\n",
       "    }\n",
       "\n",
       "    .dataframe thead th {\n",
       "        text-align: right;\n",
       "    }\n",
       "</style>\n",
       "<table border=\"1\" class=\"dataframe\">\n",
       "  <thead>\n",
       "    <tr style=\"text-align: right;\">\n",
       "      <th></th>\n",
       "      <th>ID</th>\n",
       "      <th>label</th>\n",
       "      <th>edad</th>\n",
       "      <th>montoSolicitado</th>\n",
       "      <th>montoOtorgado</th>\n",
       "      <th>genero</th>\n",
       "      <th>quincenal</th>\n",
       "      <th>dependientesEconomicos</th>\n",
       "      <th>nivelEstudio</th>\n",
       "      <th>fico</th>\n",
       "      <th>ingresosMensuales</th>\n",
       "      <th>gastosMensuales</th>\n",
       "      <th>emailScore</th>\n",
       "      <th>browser</th>\n",
       "      <th>NUMTDC_AV</th>\n",
       "    </tr>\n",
       "  </thead>\n",
       "  <tbody>\n",
       "    <tr>\n",
       "      <th>0</th>\n",
       "      <td>1</td>\n",
       "      <td>0</td>\n",
       "      <td>38.0</td>\n",
       "      <td>11890.0</td>\n",
       "      <td>11890.0</td>\n",
       "      <td>Hombre</td>\n",
       "      <td>0</td>\n",
       "      <td>1</td>\n",
       "      <td>Universidad</td>\n",
       "      <td>561</td>\n",
       "      <td>7000.0</td>\n",
       "      <td>7000</td>\n",
       "      <td>0.0</td>\n",
       "      <td>CHROME9</td>\n",
       "      <td>1.0</td>\n",
       "    </tr>\n",
       "    <tr>\n",
       "      <th>1</th>\n",
       "      <td>2</td>\n",
       "      <td>0</td>\n",
       "      <td>26.0</td>\n",
       "      <td>3700.0</td>\n",
       "      <td>3700.0</td>\n",
       "      <td>Hombre</td>\n",
       "      <td>1</td>\n",
       "      <td>0</td>\n",
       "      <td>Preparatoria</td>\n",
       "      <td>649</td>\n",
       "      <td>8000.0</td>\n",
       "      <td>3000</td>\n",
       "      <td>0.0</td>\n",
       "      <td>CHROME9</td>\n",
       "      <td>1.0</td>\n",
       "    </tr>\n",
       "    <tr>\n",
       "      <th>2</th>\n",
       "      <td>3</td>\n",
       "      <td>0</td>\n",
       "      <td>28.0</td>\n",
       "      <td>13980.0</td>\n",
       "      <td>13980.0</td>\n",
       "      <td>Hombre</td>\n",
       "      <td>0</td>\n",
       "      <td>0</td>\n",
       "      <td>Universidad</td>\n",
       "      <td>575</td>\n",
       "      <td>7500.0</td>\n",
       "      <td>2000</td>\n",
       "      <td>NaN</td>\n",
       "      <td>NaN</td>\n",
       "      <td>3.0</td>\n",
       "    </tr>\n",
       "    <tr>\n",
       "      <th>3</th>\n",
       "      <td>4</td>\n",
       "      <td>0</td>\n",
       "      <td>27.0</td>\n",
       "      <td>12016.0</td>\n",
       "      <td>6286.0</td>\n",
       "      <td>Hombre</td>\n",
       "      <td>0</td>\n",
       "      <td>0</td>\n",
       "      <td>Universidad</td>\n",
       "      <td>651</td>\n",
       "      <td>12800.0</td>\n",
       "      <td>4300</td>\n",
       "      <td>1.0</td>\n",
       "      <td>UNKNOWN</td>\n",
       "      <td>NaN</td>\n",
       "    </tr>\n",
       "    <tr>\n",
       "      <th>4</th>\n",
       "      <td>5</td>\n",
       "      <td>0</td>\n",
       "      <td>31.0</td>\n",
       "      <td>20000.0</td>\n",
       "      <td>12000.0</td>\n",
       "      <td>Hombre</td>\n",
       "      <td>1</td>\n",
       "      <td>1</td>\n",
       "      <td>Universidad</td>\n",
       "      <td>444</td>\n",
       "      <td>20000.0</td>\n",
       "      <td>12000</td>\n",
       "      <td>1.0</td>\n",
       "      <td>MOBILE_SAFARI</td>\n",
       "      <td>NaN</td>\n",
       "    </tr>\n",
       "  </tbody>\n",
       "</table>\n",
       "</div>"
      ],
      "text/plain": [
       "   ID  label  edad  montoSolicitado  montoOtorgado  genero  quincenal  \\\n",
       "0   1      0  38.0          11890.0        11890.0  Hombre          0   \n",
       "1   2      0  26.0           3700.0         3700.0  Hombre          1   \n",
       "2   3      0  28.0          13980.0        13980.0  Hombre          0   \n",
       "3   4      0  27.0          12016.0         6286.0  Hombre          0   \n",
       "4   5      0  31.0          20000.0        12000.0  Hombre          1   \n",
       "\n",
       "   dependientesEconomicos  nivelEstudio  fico  ingresosMensuales  \\\n",
       "0                       1   Universidad   561             7000.0   \n",
       "1                       0  Preparatoria   649             8000.0   \n",
       "2                       0   Universidad   575             7500.0   \n",
       "3                       0   Universidad   651            12800.0   \n",
       "4                       1   Universidad   444            20000.0   \n",
       "\n",
       "   gastosMensuales  emailScore        browser  NUMTDC_AV  \n",
       "0             7000         0.0        CHROME9        1.0  \n",
       "1             3000         0.0        CHROME9        1.0  \n",
       "2             2000         NaN            NaN        3.0  \n",
       "3             4300         1.0        UNKNOWN        NaN  \n",
       "4            12000         1.0  MOBILE_SAFARI        NaN  "
      ]
     },
     "execution_count": 703,
     "metadata": {},
     "output_type": "execute_result"
    }
   ],
   "source": [
    "data_raw.head()"
   ]
  },
  {
   "cell_type": "code",
   "execution_count": 704,
   "metadata": {},
   "outputs": [
    {
     "data": {
      "text/html": [
       "<div>\n",
       "<style scoped>\n",
       "    .dataframe tbody tr th:only-of-type {\n",
       "        vertical-align: middle;\n",
       "    }\n",
       "\n",
       "    .dataframe tbody tr th {\n",
       "        vertical-align: top;\n",
       "    }\n",
       "\n",
       "    .dataframe thead th {\n",
       "        text-align: right;\n",
       "    }\n",
       "</style>\n",
       "<table border=\"1\" class=\"dataframe\">\n",
       "  <thead>\n",
       "    <tr style=\"text-align: right;\">\n",
       "      <th></th>\n",
       "      <th>ID</th>\n",
       "      <th>label</th>\n",
       "      <th>edad</th>\n",
       "      <th>montoSolicitado</th>\n",
       "      <th>montoOtorgado</th>\n",
       "      <th>quincenal</th>\n",
       "      <th>dependientesEconomicos</th>\n",
       "      <th>fico</th>\n",
       "      <th>ingresosMensuales</th>\n",
       "      <th>gastosMensuales</th>\n",
       "      <th>emailScore</th>\n",
       "      <th>NUMTDC_AV</th>\n",
       "    </tr>\n",
       "  </thead>\n",
       "  <tbody>\n",
       "    <tr>\n",
       "      <th>count</th>\n",
       "      <td>1000.000000</td>\n",
       "      <td>1000.000000</td>\n",
       "      <td>996.000000</td>\n",
       "      <td>1000.000000</td>\n",
       "      <td>1000.000000</td>\n",
       "      <td>1000.000000</td>\n",
       "      <td>1000.000000</td>\n",
       "      <td>1000.00000</td>\n",
       "      <td>1000.000000</td>\n",
       "      <td>1000.000000</td>\n",
       "      <td>873.000000</td>\n",
       "      <td>506.000000</td>\n",
       "    </tr>\n",
       "    <tr>\n",
       "      <th>mean</th>\n",
       "      <td>500.500000</td>\n",
       "      <td>0.220000</td>\n",
       "      <td>34.588353</td>\n",
       "      <td>15871.090740</td>\n",
       "      <td>11871.470470</td>\n",
       "      <td>0.156000</td>\n",
       "      <td>0.995000</td>\n",
       "      <td>533.60800</td>\n",
       "      <td>24852.949160</td>\n",
       "      <td>12692.456000</td>\n",
       "      <td>1.882016</td>\n",
       "      <td>2.203557</td>\n",
       "    </tr>\n",
       "    <tr>\n",
       "      <th>std</th>\n",
       "      <td>288.819436</td>\n",
       "      <td>0.414454</td>\n",
       "      <td>10.176296</td>\n",
       "      <td>17109.302264</td>\n",
       "      <td>12951.028413</td>\n",
       "      <td>0.363037</td>\n",
       "      <td>1.127939</td>\n",
       "      <td>141.94502</td>\n",
       "      <td>38290.063995</td>\n",
       "      <td>28816.956572</td>\n",
       "      <td>5.325080</td>\n",
       "      <td>1.518228</td>\n",
       "    </tr>\n",
       "    <tr>\n",
       "      <th>min</th>\n",
       "      <td>1.000000</td>\n",
       "      <td>0.000000</td>\n",
       "      <td>18.000000</td>\n",
       "      <td>1000.000000</td>\n",
       "      <td>1000.000000</td>\n",
       "      <td>0.000000</td>\n",
       "      <td>0.000000</td>\n",
       "      <td>0.00000</td>\n",
       "      <td>12.000000</td>\n",
       "      <td>2.000000</td>\n",
       "      <td>0.000000</td>\n",
       "      <td>1.000000</td>\n",
       "    </tr>\n",
       "    <tr>\n",
       "      <th>25%</th>\n",
       "      <td>250.750000</td>\n",
       "      <td>0.000000</td>\n",
       "      <td>27.000000</td>\n",
       "      <td>5289.500000</td>\n",
       "      <td>4393.750000</td>\n",
       "      <td>0.000000</td>\n",
       "      <td>0.000000</td>\n",
       "      <td>491.00000</td>\n",
       "      <td>10000.000000</td>\n",
       "      <td>4000.000000</td>\n",
       "      <td>0.000000</td>\n",
       "      <td>1.000000</td>\n",
       "    </tr>\n",
       "    <tr>\n",
       "      <th>50%</th>\n",
       "      <td>500.500000</td>\n",
       "      <td>0.000000</td>\n",
       "      <td>32.000000</td>\n",
       "      <td>11000.000000</td>\n",
       "      <td>7795.000000</td>\n",
       "      <td>0.000000</td>\n",
       "      <td>1.000000</td>\n",
       "      <td>560.00000</td>\n",
       "      <td>16000.000000</td>\n",
       "      <td>7000.000000</td>\n",
       "      <td>1.000000</td>\n",
       "      <td>2.000000</td>\n",
       "    </tr>\n",
       "    <tr>\n",
       "      <th>75%</th>\n",
       "      <td>750.250000</td>\n",
       "      <td>0.000000</td>\n",
       "      <td>40.000000</td>\n",
       "      <td>19000.000000</td>\n",
       "      <td>15000.000000</td>\n",
       "      <td>0.000000</td>\n",
       "      <td>2.000000</td>\n",
       "      <td>618.25000</td>\n",
       "      <td>25000.000000</td>\n",
       "      <td>14000.000000</td>\n",
       "      <td>1.000000</td>\n",
       "      <td>3.000000</td>\n",
       "    </tr>\n",
       "    <tr>\n",
       "      <th>max</th>\n",
       "      <td>1000.000000</td>\n",
       "      <td>1.000000</td>\n",
       "      <td>69.000000</td>\n",
       "      <td>150000.000000</td>\n",
       "      <td>100000.000000</td>\n",
       "      <td>1.000000</td>\n",
       "      <td>5.000000</td>\n",
       "      <td>748.00000</td>\n",
       "      <td>900000.000000</td>\n",
       "      <td>750000.000000</td>\n",
       "      <td>80.000000</td>\n",
       "      <td>12.000000</td>\n",
       "    </tr>\n",
       "  </tbody>\n",
       "</table>\n",
       "</div>"
      ],
      "text/plain": [
       "                ID        label        edad  montoSolicitado  montoOtorgado  \\\n",
       "count  1000.000000  1000.000000  996.000000      1000.000000    1000.000000   \n",
       "mean    500.500000     0.220000   34.588353     15871.090740   11871.470470   \n",
       "std     288.819436     0.414454   10.176296     17109.302264   12951.028413   \n",
       "min       1.000000     0.000000   18.000000      1000.000000    1000.000000   \n",
       "25%     250.750000     0.000000   27.000000      5289.500000    4393.750000   \n",
       "50%     500.500000     0.000000   32.000000     11000.000000    7795.000000   \n",
       "75%     750.250000     0.000000   40.000000     19000.000000   15000.000000   \n",
       "max    1000.000000     1.000000   69.000000    150000.000000  100000.000000   \n",
       "\n",
       "         quincenal  dependientesEconomicos        fico  ingresosMensuales  \\\n",
       "count  1000.000000             1000.000000  1000.00000        1000.000000   \n",
       "mean      0.156000                0.995000   533.60800       24852.949160   \n",
       "std       0.363037                1.127939   141.94502       38290.063995   \n",
       "min       0.000000                0.000000     0.00000          12.000000   \n",
       "25%       0.000000                0.000000   491.00000       10000.000000   \n",
       "50%       0.000000                1.000000   560.00000       16000.000000   \n",
       "75%       0.000000                2.000000   618.25000       25000.000000   \n",
       "max       1.000000                5.000000   748.00000      900000.000000   \n",
       "\n",
       "       gastosMensuales  emailScore   NUMTDC_AV  \n",
       "count      1000.000000  873.000000  506.000000  \n",
       "mean      12692.456000    1.882016    2.203557  \n",
       "std       28816.956572    5.325080    1.518228  \n",
       "min           2.000000    0.000000    1.000000  \n",
       "25%        4000.000000    0.000000    1.000000  \n",
       "50%        7000.000000    1.000000    2.000000  \n",
       "75%       14000.000000    1.000000    3.000000  \n",
       "max      750000.000000   80.000000   12.000000  "
      ]
     },
     "execution_count": 704,
     "metadata": {},
     "output_type": "execute_result"
    }
   ],
   "source": [
    "data_raw.describe()\n",
    "# NUMTDC_AV NA == a cero"
   ]
  },
  {
   "cell_type": "code",
   "execution_count": 705,
   "metadata": {},
   "outputs": [
    {
     "data": {
      "text/html": [
       "<div>\n",
       "<style scoped>\n",
       "    .dataframe tbody tr th:only-of-type {\n",
       "        vertical-align: middle;\n",
       "    }\n",
       "\n",
       "    .dataframe tbody tr th {\n",
       "        vertical-align: top;\n",
       "    }\n",
       "\n",
       "    .dataframe thead th {\n",
       "        text-align: right;\n",
       "    }\n",
       "</style>\n",
       "<table border=\"1\" class=\"dataframe\">\n",
       "  <thead>\n",
       "    <tr style=\"text-align: right;\">\n",
       "      <th></th>\n",
       "      <th>genero</th>\n",
       "      <th>nivelEstudio</th>\n",
       "      <th>browser</th>\n",
       "    </tr>\n",
       "  </thead>\n",
       "  <tbody>\n",
       "    <tr>\n",
       "      <th>count</th>\n",
       "      <td>1000</td>\n",
       "      <td>1000</td>\n",
       "      <td>871</td>\n",
       "    </tr>\n",
       "    <tr>\n",
       "      <th>unique</th>\n",
       "      <td>2</td>\n",
       "      <td>7</td>\n",
       "      <td>12</td>\n",
       "    </tr>\n",
       "    <tr>\n",
       "      <th>top</th>\n",
       "      <td>Hombre</td>\n",
       "      <td>Universidad</td>\n",
       "      <td>CHROME_MOBILE</td>\n",
       "    </tr>\n",
       "    <tr>\n",
       "      <th>freq</th>\n",
       "      <td>719</td>\n",
       "      <td>534</td>\n",
       "      <td>437</td>\n",
       "    </tr>\n",
       "  </tbody>\n",
       "</table>\n",
       "</div>"
      ],
      "text/plain": [
       "        genero nivelEstudio        browser\n",
       "count     1000         1000            871\n",
       "unique       2            7             12\n",
       "top     Hombre  Universidad  CHROME_MOBILE\n",
       "freq       719          534            437"
      ]
     },
     "execution_count": 705,
     "metadata": {},
     "output_type": "execute_result"
    }
   ],
   "source": [
    "data_raw.describe(include=[object])"
   ]
  },
  {
   "cell_type": "code",
   "execution_count": 706,
   "metadata": {},
   "outputs": [
    {
     "data": {
      "text/plain": [
       "['Hombre', 'Mujer']"
      ]
     },
     "execution_count": 706,
     "metadata": {},
     "output_type": "execute_result"
    }
   ],
   "source": [
    "data_raw['genero'].unique().tolist()"
   ]
  },
  {
   "cell_type": "code",
   "execution_count": 707,
   "metadata": {},
   "outputs": [
    {
     "data": {
      "text/plain": [
       "['Universidad',\n",
       " 'Preparatoria',\n",
       " 'Maestr√≠a',\n",
       " 'Secundaria',\n",
       " 'Primaria',\n",
       " 'Doctorado',\n",
       " 'Ninguno']"
      ]
     },
     "execution_count": 707,
     "metadata": {},
     "output_type": "execute_result"
    }
   ],
   "source": [
    "data_raw['nivelEstudio'].unique().tolist()\n",
    "# tenemos un error de tipo en 'Maestr√≠a'"
   ]
  },
  {
   "cell_type": "code",
   "execution_count": 708,
   "metadata": {},
   "outputs": [
    {
     "data": {
      "text/plain": [
       "['CHROME9',\n",
       " nan,\n",
       " 'UNKNOWN',\n",
       " 'MOBILE_SAFARI',\n",
       " 'CHROME_MOBILE',\n",
       " 'CHROME8',\n",
       " 'APPLE_WEB_KIT',\n",
       " 'FIREFOX8',\n",
       " 'MOZILLA',\n",
       " 'FIREFOX_MOBILE',\n",
       " 'CHROME',\n",
       " 'SAFARI',\n",
       " 'EDGE_MOBILE']"
      ]
     },
     "execution_count": 708,
     "metadata": {},
     "output_type": "execute_result"
    }
   ],
   "source": [
    "data_raw['browser'].unique().tolist()\n",
    "# mas a delante manejaremos esos nan\n",
    "# observamos que podemos saber si es desde un movil desde donde ocurre la conexión sera interesante ver si existe una correlación"
   ]
  },
  {
   "cell_type": "markdown",
   "metadata": {},
   "source": [
    "El tipo de columnas es consistentes con lo que contienen"
   ]
  },
  {
   "cell_type": "markdown",
   "metadata": {},
   "source": [
    "## Limpieza "
   ]
  },
  {
   "cell_type": "code",
   "execution_count": 709,
   "metadata": {},
   "outputs": [],
   "source": [
    "# no necesitamos la columna ID\n",
    "data_clean = data_raw.drop(columns=['ID'])\n",
    "\n",
    "# Para temas de visualizacion y de cohort cambiaremos label\n",
    "data_clean['label'] = data_clean['label'].apply(lambda x: 'Moroso' if x == 1 else 'No Moroso')\n",
    "\n",
    "# corregimos \"Maestr√≠a\" a \"Maestria\"\n",
    "data_clean['nivelEstudio'] = data_clean.nivelEstudio.replace(\"Maestr√≠a\", \"Maestria\")\n"
   ]
  },
  {
   "cell_type": "markdown",
   "metadata": {},
   "source": [
    "### Manejo de datos faltantes"
   ]
  },
  {
   "cell_type": "code",
   "execution_count": 710,
   "metadata": {},
   "outputs": [
    {
     "data": {
      "text/plain": [
       "label                       0\n",
       "edad                        4\n",
       "montoSolicitado             0\n",
       "montoOtorgado               0\n",
       "genero                      0\n",
       "quincenal                   0\n",
       "dependientesEconomicos      0\n",
       "nivelEstudio                0\n",
       "fico                        0\n",
       "ingresosMensuales           0\n",
       "gastosMensuales             0\n",
       "emailScore                127\n",
       "browser                   129\n",
       "NUMTDC_AV                 494\n",
       "dtype: int64"
      ]
     },
     "execution_count": 710,
     "metadata": {},
     "output_type": "execute_result"
    }
   ],
   "source": [
    "# NAs por columna\n",
    "data_clean.isnull().sum() "
   ]
  },
  {
   "cell_type": "code",
   "execution_count": 711,
   "metadata": {},
   "outputs": [
    {
     "data": {
      "text/plain": [
       "Text(0.5, 1.0, 'NAs ratio per Column')"
      ]
     },
     "execution_count": 711,
     "metadata": {},
     "output_type": "execute_result"
    },
    {
     "data": {
      "image/png": "[encoded data removed]",
      "text/plain": [
       "<Figure size 648x648 with 1 Axes>"
      ]
     },
     "metadata": {},
     "output_type": "display_data"
    }
   ],
   "source": [
    "# Create a data frame\n",
    "df = pd.DataFrame ({\n",
    "        'column':  data_clean.isna().sum().index,\n",
    "        'NAs': (data_clean.isna().sum()/data_clean.shape[0])\n",
    "}).sort_values(by=['NAs'])\n",
    "\n",
    "fig, ax = plt.subplots()\n",
    "fig.set_size_inches(9,9)\n",
    "ax.barh(y=df.column, width=df.NAs)\n",
    "\n",
    "# Add title\n",
    "ax.set_title('NAs ratio per Column')"
   ]
  },
  {
   "cell_type": "markdown",
   "metadata": {},
   "source": [
    "#### Imputacion de NAs\n",
    "\n",
    "Son 4 columnas las que presentan NAs. \n",
    "Para el caso de 'edad' al ser solo 4 datos nulos tomaremos su promedio para imputar \n",
    "Para 'emailScore' los datos nulos seran tratados como ceros ya que esto es equivalente a no tener confianza sobre ese email\n",
    "Para 'browser' utilizaremos la categoria 'UNKNOWN' que ya existe\n",
    "En el caso de NUMTDC_AV partiremos de algunos supuestos el primero como vemos https://blog.kardmatch.com.mx/cuantas-tarjetas-de-credito-es-recomendable-tener, https://www.bbva.com/es/cuantas-tarjetas-credito-conviene/, las recomendaciones son al menos dos tarejtas de credito y https://www.nerdwallet.com/article/finance/how-many-credit-cards mencionan que en promedio un estadunidense tiene un promedio de 2.3  tarjetas de credito ( curisoasmente muy cercano al 2.2 de nuestros datos) y tomando en cuenta que el consumo tiende a parecerce entre paises la columna NUMTDC_AV la convertiremos en una varible categorica con 3 catergorias 'UNKNOWN' '3 o menos tarjetas de credito' 'mas de 3 tarjetas' se selecciona 3 tarjetas y no 2 como nuestro limite ya que con las nuevas tarjetas 'sin anualidad' existen más incentivos para adquirir cada vez más"
   ]
  },
  {
   "cell_type": "code",
   "execution_count": 712,
   "metadata": {},
   "outputs": [],
   "source": [
    "# Estas imputaciones se pueden realizar dentro del pipline de sklearn sin embargo para tener un mejor control y dado \n",
    "# que son pocas las columnas se tratara una a una\n",
    "\n",
    "def clean_data(data):\n",
    "\n",
    "    # emailScore\n",
    "    data['emailScore'] = data['emailScore'].fillna(0)\n",
    "\n",
    "    # browser\n",
    "    data['browser'] = data['browser'].fillna(\"UNKNOWN\")\n",
    "\n",
    "    #  NUMTDC_AV\n",
    "    cond_list = [data['NUMTDC_AV']  <= 3, data['NUMTDC_AV']  > 3]\n",
    "    choice_list = ['3 o menos TC', 'Mas de 3 TC']\n",
    "\n",
    "    data['NUMTDC_AV'] = np.select(cond_list, choice_list, default='UNKNOWN')\n",
    "\n",
    "    return data\n"
   ]
  },
  {
   "cell_type": "code",
   "execution_count": 713,
   "metadata": {},
   "outputs": [],
   "source": [
    "data_clean = clean_data(data_clean)\n"
   ]
  },
  {
   "cell_type": "code",
   "execution_count": 714,
   "metadata": {},
   "outputs": [
    {
     "data": {
      "text/html": [
       "<div>\n",
       "<style scoped>\n",
       "    .dataframe tbody tr th:only-of-type {\n",
       "        vertical-align: middle;\n",
       "    }\n",
       "\n",
       "    .dataframe tbody tr th {\n",
       "        vertical-align: top;\n",
       "    }\n",
       "\n",
       "    .dataframe thead th {\n",
       "        text-align: right;\n",
       "    }\n",
       "</style>\n",
       "<table border=\"1\" class=\"dataframe\">\n",
       "  <thead>\n",
       "    <tr style=\"text-align: right;\">\n",
       "      <th></th>\n",
       "      <th>edad</th>\n",
       "      <th>montoSolicitado</th>\n",
       "      <th>montoOtorgado</th>\n",
       "      <th>quincenal</th>\n",
       "      <th>dependientesEconomicos</th>\n",
       "      <th>fico</th>\n",
       "      <th>ingresosMensuales</th>\n",
       "      <th>gastosMensuales</th>\n",
       "      <th>emailScore</th>\n",
       "    </tr>\n",
       "  </thead>\n",
       "  <tbody>\n",
       "    <tr>\n",
       "      <th>count</th>\n",
       "      <td>996.000000</td>\n",
       "      <td>1000.000000</td>\n",
       "      <td>1000.000000</td>\n",
       "      <td>1000.000000</td>\n",
       "      <td>1000.000000</td>\n",
       "      <td>1000.00000</td>\n",
       "      <td>1000.000000</td>\n",
       "      <td>1000.000000</td>\n",
       "      <td>1000.000000</td>\n",
       "    </tr>\n",
       "    <tr>\n",
       "      <th>mean</th>\n",
       "      <td>34.588353</td>\n",
       "      <td>15871.090740</td>\n",
       "      <td>11871.470470</td>\n",
       "      <td>0.156000</td>\n",
       "      <td>0.995000</td>\n",
       "      <td>533.60800</td>\n",
       "      <td>24852.949160</td>\n",
       "      <td>12692.456000</td>\n",
       "      <td>1.643000</td>\n",
       "    </tr>\n",
       "    <tr>\n",
       "      <th>std</th>\n",
       "      <td>10.176296</td>\n",
       "      <td>17109.302264</td>\n",
       "      <td>12951.028413</td>\n",
       "      <td>0.363037</td>\n",
       "      <td>1.127939</td>\n",
       "      <td>141.94502</td>\n",
       "      <td>38290.063995</td>\n",
       "      <td>28816.956572</td>\n",
       "      <td>5.014449</td>\n",
       "    </tr>\n",
       "    <tr>\n",
       "      <th>min</th>\n",
       "      <td>18.000000</td>\n",
       "      <td>1000.000000</td>\n",
       "      <td>1000.000000</td>\n",
       "      <td>0.000000</td>\n",
       "      <td>0.000000</td>\n",
       "      <td>0.00000</td>\n",
       "      <td>12.000000</td>\n",
       "      <td>2.000000</td>\n",
       "      <td>0.000000</td>\n",
       "    </tr>\n",
       "    <tr>\n",
       "      <th>25%</th>\n",
       "      <td>27.000000</td>\n",
       "      <td>5289.500000</td>\n",
       "      <td>4393.750000</td>\n",
       "      <td>0.000000</td>\n",
       "      <td>0.000000</td>\n",
       "      <td>491.00000</td>\n",
       "      <td>10000.000000</td>\n",
       "      <td>4000.000000</td>\n",
       "      <td>0.000000</td>\n",
       "    </tr>\n",
       "    <tr>\n",
       "      <th>50%</th>\n",
       "      <td>32.000000</td>\n",
       "      <td>11000.000000</td>\n",
       "      <td>7795.000000</td>\n",
       "      <td>0.000000</td>\n",
       "      <td>1.000000</td>\n",
       "      <td>560.00000</td>\n",
       "      <td>16000.000000</td>\n",
       "      <td>7000.000000</td>\n",
       "      <td>1.000000</td>\n",
       "    </tr>\n",
       "    <tr>\n",
       "      <th>75%</th>\n",
       "      <td>40.000000</td>\n",
       "      <td>19000.000000</td>\n",
       "      <td>15000.000000</td>\n",
       "      <td>0.000000</td>\n",
       "      <td>2.000000</td>\n",
       "      <td>618.25000</td>\n",
       "      <td>25000.000000</td>\n",
       "      <td>14000.000000</td>\n",
       "      <td>1.000000</td>\n",
       "    </tr>\n",
       "    <tr>\n",
       "      <th>max</th>\n",
       "      <td>69.000000</td>\n",
       "      <td>150000.000000</td>\n",
       "      <td>100000.000000</td>\n",
       "      <td>1.000000</td>\n",
       "      <td>5.000000</td>\n",
       "      <td>748.00000</td>\n",
       "      <td>900000.000000</td>\n",
       "      <td>750000.000000</td>\n",
       "      <td>80.000000</td>\n",
       "    </tr>\n",
       "  </tbody>\n",
       "</table>\n",
       "</div>"
      ],
      "text/plain": [
       "             edad  montoSolicitado  montoOtorgado    quincenal  \\\n",
       "count  996.000000      1000.000000    1000.000000  1000.000000   \n",
       "mean    34.588353     15871.090740   11871.470470     0.156000   \n",
       "std     10.176296     17109.302264   12951.028413     0.363037   \n",
       "min     18.000000      1000.000000    1000.000000     0.000000   \n",
       "25%     27.000000      5289.500000    4393.750000     0.000000   \n",
       "50%     32.000000     11000.000000    7795.000000     0.000000   \n",
       "75%     40.000000     19000.000000   15000.000000     0.000000   \n",
       "max     69.000000    150000.000000  100000.000000     1.000000   \n",
       "\n",
       "       dependientesEconomicos        fico  ingresosMensuales  gastosMensuales  \\\n",
       "count             1000.000000  1000.00000        1000.000000      1000.000000   \n",
       "mean                 0.995000   533.60800       24852.949160     12692.456000   \n",
       "std                  1.127939   141.94502       38290.063995     28816.956572   \n",
       "min                  0.000000     0.00000          12.000000         2.000000   \n",
       "25%                  0.000000   491.00000       10000.000000      4000.000000   \n",
       "50%                  1.000000   560.00000       16000.000000      7000.000000   \n",
       "75%                  2.000000   618.25000       25000.000000     14000.000000   \n",
       "max                  5.000000   748.00000      900000.000000    750000.000000   \n",
       "\n",
       "        emailScore  \n",
       "count  1000.000000  \n",
       "mean      1.643000  \n",
       "std       5.014449  \n",
       "min       0.000000  \n",
       "25%       0.000000  \n",
       "50%       1.000000  \n",
       "75%       1.000000  \n",
       "max      80.000000  "
      ]
     },
     "execution_count": 714,
     "metadata": {},
     "output_type": "execute_result"
    }
   ],
   "source": [
    "data_clean.describe()\n",
    "# NUMTDC_AV pasa a ser categorica"
   ]
  },
  {
   "cell_type": "code",
   "execution_count": 715,
   "metadata": {},
   "outputs": [
    {
     "data": {
      "text/html": [
       "<div>\n",
       "<style scoped>\n",
       "    .dataframe tbody tr th:only-of-type {\n",
       "        vertical-align: middle;\n",
       "    }\n",
       "\n",
       "    .dataframe tbody tr th {\n",
       "        vertical-align: top;\n",
       "    }\n",
       "\n",
       "    .dataframe thead th {\n",
       "        text-align: right;\n",
       "    }\n",
       "</style>\n",
       "<table border=\"1\" class=\"dataframe\">\n",
       "  <thead>\n",
       "    <tr style=\"text-align: right;\">\n",
       "      <th></th>\n",
       "      <th>label</th>\n",
       "      <th>genero</th>\n",
       "      <th>nivelEstudio</th>\n",
       "      <th>browser</th>\n",
       "      <th>NUMTDC_AV</th>\n",
       "    </tr>\n",
       "  </thead>\n",
       "  <tbody>\n",
       "    <tr>\n",
       "      <th>count</th>\n",
       "      <td>1000</td>\n",
       "      <td>1000</td>\n",
       "      <td>1000</td>\n",
       "      <td>1000</td>\n",
       "      <td>1000</td>\n",
       "    </tr>\n",
       "    <tr>\n",
       "      <th>unique</th>\n",
       "      <td>2</td>\n",
       "      <td>2</td>\n",
       "      <td>7</td>\n",
       "      <td>12</td>\n",
       "      <td>3</td>\n",
       "    </tr>\n",
       "    <tr>\n",
       "      <th>top</th>\n",
       "      <td>No Moroso</td>\n",
       "      <td>Hombre</td>\n",
       "      <td>Universidad</td>\n",
       "      <td>CHROME_MOBILE</td>\n",
       "      <td>UNKNOWN</td>\n",
       "    </tr>\n",
       "    <tr>\n",
       "      <th>freq</th>\n",
       "      <td>780</td>\n",
       "      <td>719</td>\n",
       "      <td>534</td>\n",
       "      <td>437</td>\n",
       "      <td>494</td>\n",
       "    </tr>\n",
       "  </tbody>\n",
       "</table>\n",
       "</div>"
      ],
      "text/plain": [
       "            label  genero nivelEstudio        browser NUMTDC_AV\n",
       "count        1000    1000         1000           1000      1000\n",
       "unique          2       2            7             12         3\n",
       "top     No Moroso  Hombre  Universidad  CHROME_MOBILE   UNKNOWN\n",
       "freq          780     719          534            437       494"
      ]
     },
     "execution_count": 715,
     "metadata": {},
     "output_type": "execute_result"
    }
   ],
   "source": [
    "data_clean.describe(include=[object])"
   ]
  },
  {
   "cell_type": "markdown",
   "metadata": {},
   "source": [
    "Veamos graficamente las variables categoricas"
   ]
  },
  {
   "cell_type": "code",
   "execution_count": 716,
   "metadata": {},
   "outputs": [],
   "source": [
    "def categorical_plot(column):\n",
    "    df = data_clean[column].value_counts()\n",
    "    df.sort_values().plot(kind='barh', title = column.upper())"
   ]
  },
  {
   "cell_type": "code",
   "execution_count": 717,
   "metadata": {},
   "outputs": [
    {
     "data": {
      "text/plain": [
       "No Moroso    780\n",
       "Moroso       220\n",
       "Name: label, dtype: int64"
      ]
     },
     "execution_count": 717,
     "metadata": {},
     "output_type": "execute_result"
    }
   ],
   "source": [
    "data_clean['label'].value_counts()"
   ]
  },
  {
   "cell_type": "code",
   "execution_count": 718,
   "metadata": {},
   "outputs": [
    {
     "data": {
      "image/png": "[encoded data removed]",
      "text/plain": [
       "<Figure size 432x288 with 1 Axes>"
      ]
     },
     "metadata": {},
     "output_type": "display_data"
    }
   ],
   "source": [
    "categorical_plot('label')"
   ]
  },
  {
   "cell_type": "markdown",
   "metadata": {},
   "source": [
    "Estamos frente a un problema de clasificacion desvalanceado ya que el tipo de usuario \"Moroso\" (clase positiva)\n",
    "mantiene una relacionde  0.282 respecto a \"No Moroso\" (clase negativa)"
   ]
  },
  {
   "cell_type": "code",
   "execution_count": 719,
   "metadata": {},
   "outputs": [
    {
     "data": {
      "image/png": "[encoded data removed]",
      "text/plain": [
       "<Figure size 432x288 with 1 Axes>"
      ]
     },
     "metadata": {},
     "output_type": "display_data"
    }
   ],
   "source": [
    "categorical_plot('genero')"
   ]
  },
  {
   "cell_type": "code",
   "execution_count": 720,
   "metadata": {},
   "outputs": [
    {
     "data": {
      "image/png": "[encoded data removed]",
      "text/plain": [
       "<Figure size 432x288 with 1 Axes>"
      ]
     },
     "metadata": {},
     "output_type": "display_data"
    }
   ],
   "source": [
    "categorical_plot('nivelEstudio')"
   ]
  },
  {
   "cell_type": "code",
   "execution_count": 721,
   "metadata": {},
   "outputs": [
    {
     "data": {
      "image/png": "[encoded data removed]",
      "text/plain": [
       "<Figure size 432x288 with 1 Axes>"
      ]
     },
     "metadata": {},
     "output_type": "display_data"
    }
   ],
   "source": [
    "categorical_plot('browser')"
   ]
  },
  {
   "cell_type": "code",
   "execution_count": 722,
   "metadata": {},
   "outputs": [
    {
     "data": {
      "image/png": "[encoded data removed]",
      "text/plain": [
       "<Figure size 432x288 with 1 Axes>"
      ]
     },
     "metadata": {},
     "output_type": "display_data"
    }
   ],
   "source": [
    "categorical_plot('NUMTDC_AV')"
   ]
  },
  {
   "cell_type": "markdown",
   "metadata": {},
   "source": [
    "## Correlación\n",
    "\n",
    "Veamos como se comportan los datos de acuerdo a cada label"
   ]
  },
  {
   "cell_type": "code",
   "execution_count": 723,
   "metadata": {},
   "outputs": [
    {
     "data": {
      "text/html": [
       "<div>\n",
       "<style scoped>\n",
       "    .dataframe tbody tr th:only-of-type {\n",
       "        vertical-align: middle;\n",
       "    }\n",
       "\n",
       "    .dataframe tbody tr th {\n",
       "        vertical-align: top;\n",
       "    }\n",
       "\n",
       "    .dataframe thead th {\n",
       "        text-align: right;\n",
       "    }\n",
       "</style>\n",
       "<table border=\"1\" class=\"dataframe\">\n",
       "  <thead>\n",
       "    <tr style=\"text-align: right;\">\n",
       "      <th></th>\n",
       "      <th>edad</th>\n",
       "      <th>montoSolicitado</th>\n",
       "      <th>montoOtorgado</th>\n",
       "      <th>quincenal</th>\n",
       "      <th>dependientesEconomicos</th>\n",
       "      <th>fico</th>\n",
       "      <th>ingresosMensuales</th>\n",
       "      <th>gastosMensuales</th>\n",
       "      <th>emailScore</th>\n",
       "    </tr>\n",
       "  </thead>\n",
       "  <tbody>\n",
       "    <tr>\n",
       "      <th>count</th>\n",
       "      <td>220.000000</td>\n",
       "      <td>220.000000</td>\n",
       "      <td>220.000000</td>\n",
       "      <td>220.000000</td>\n",
       "      <td>220.000000</td>\n",
       "      <td>220.000000</td>\n",
       "      <td>220.000000</td>\n",
       "      <td>220.000000</td>\n",
       "      <td>220.000000</td>\n",
       "    </tr>\n",
       "    <tr>\n",
       "      <th>mean</th>\n",
       "      <td>31.754545</td>\n",
       "      <td>17503.284000</td>\n",
       "      <td>11070.984409</td>\n",
       "      <td>0.150000</td>\n",
       "      <td>1.022727</td>\n",
       "      <td>516.363636</td>\n",
       "      <td>20749.836364</td>\n",
       "      <td>10696.136364</td>\n",
       "      <td>1.881818</td>\n",
       "    </tr>\n",
       "    <tr>\n",
       "      <th>std</th>\n",
       "      <td>9.119387</td>\n",
       "      <td>20078.066392</td>\n",
       "      <td>13527.928377</td>\n",
       "      <td>0.357886</td>\n",
       "      <td>1.140549</td>\n",
       "      <td>131.289372</td>\n",
       "      <td>21134.361626</td>\n",
       "      <td>12429.727442</td>\n",
       "      <td>3.024200</td>\n",
       "    </tr>\n",
       "    <tr>\n",
       "      <th>min</th>\n",
       "      <td>18.000000</td>\n",
       "      <td>1000.000000</td>\n",
       "      <td>1000.000000</td>\n",
       "      <td>0.000000</td>\n",
       "      <td>0.000000</td>\n",
       "      <td>0.000000</td>\n",
       "      <td>1000.000000</td>\n",
       "      <td>400.000000</td>\n",
       "      <td>0.000000</td>\n",
       "    </tr>\n",
       "    <tr>\n",
       "      <th>25%</th>\n",
       "      <td>25.000000</td>\n",
       "      <td>5875.000000</td>\n",
       "      <td>4000.000000</td>\n",
       "      <td>0.000000</td>\n",
       "      <td>0.000000</td>\n",
       "      <td>464.000000</td>\n",
       "      <td>10000.000000</td>\n",
       "      <td>4000.000000</td>\n",
       "      <td>0.000000</td>\n",
       "    </tr>\n",
       "    <tr>\n",
       "      <th>50%</th>\n",
       "      <td>30.000000</td>\n",
       "      <td>12000.000000</td>\n",
       "      <td>7000.000000</td>\n",
       "      <td>0.000000</td>\n",
       "      <td>1.000000</td>\n",
       "      <td>537.000000</td>\n",
       "      <td>15000.000000</td>\n",
       "      <td>6750.000000</td>\n",
       "      <td>1.000000</td>\n",
       "    </tr>\n",
       "    <tr>\n",
       "      <th>75%</th>\n",
       "      <td>36.000000</td>\n",
       "      <td>19072.500000</td>\n",
       "      <td>14021.000000</td>\n",
       "      <td>0.000000</td>\n",
       "      <td>2.000000</td>\n",
       "      <td>602.000000</td>\n",
       "      <td>25000.000000</td>\n",
       "      <td>13000.000000</td>\n",
       "      <td>1.000000</td>\n",
       "    </tr>\n",
       "    <tr>\n",
       "      <th>max</th>\n",
       "      <td>67.000000</td>\n",
       "      <td>150000.000000</td>\n",
       "      <td>100000.000000</td>\n",
       "      <td>1.000000</td>\n",
       "      <td>4.000000</td>\n",
       "      <td>710.000000</td>\n",
       "      <td>150000.000000</td>\n",
       "      <td>80000.000000</td>\n",
       "      <td>14.000000</td>\n",
       "    </tr>\n",
       "  </tbody>\n",
       "</table>\n",
       "</div>"
      ],
      "text/plain": [
       "             edad  montoSolicitado  montoOtorgado   quincenal  \\\n",
       "count  220.000000       220.000000     220.000000  220.000000   \n",
       "mean    31.754545     17503.284000   11070.984409    0.150000   \n",
       "std      9.119387     20078.066392   13527.928377    0.357886   \n",
       "min     18.000000      1000.000000    1000.000000    0.000000   \n",
       "25%     25.000000      5875.000000    4000.000000    0.000000   \n",
       "50%     30.000000     12000.000000    7000.000000    0.000000   \n",
       "75%     36.000000     19072.500000   14021.000000    0.000000   \n",
       "max     67.000000    150000.000000  100000.000000    1.000000   \n",
       "\n",
       "       dependientesEconomicos        fico  ingresosMensuales  gastosMensuales  \\\n",
       "count              220.000000  220.000000         220.000000       220.000000   \n",
       "mean                 1.022727  516.363636       20749.836364     10696.136364   \n",
       "std                  1.140549  131.289372       21134.361626     12429.727442   \n",
       "min                  0.000000    0.000000        1000.000000       400.000000   \n",
       "25%                  0.000000  464.000000       10000.000000      4000.000000   \n",
       "50%                  1.000000  537.000000       15000.000000      6750.000000   \n",
       "75%                  2.000000  602.000000       25000.000000     13000.000000   \n",
       "max                  4.000000  710.000000      150000.000000     80000.000000   \n",
       "\n",
       "       emailScore  \n",
       "count  220.000000  \n",
       "mean     1.881818  \n",
       "std      3.024200  \n",
       "min      0.000000  \n",
       "25%      0.000000  \n",
       "50%      1.000000  \n",
       "75%      1.000000  \n",
       "max     14.000000  "
      ]
     },
     "execution_count": 723,
     "metadata": {},
     "output_type": "execute_result"
    }
   ],
   "source": [
    "data_clean[data_clean['label']=='Moroso'].describe()"
   ]
  },
  {
   "cell_type": "code",
   "execution_count": 724,
   "metadata": {},
   "outputs": [
    {
     "data": {
      "text/html": [
       "<div>\n",
       "<style scoped>\n",
       "    .dataframe tbody tr th:only-of-type {\n",
       "        vertical-align: middle;\n",
       "    }\n",
       "\n",
       "    .dataframe tbody tr th {\n",
       "        vertical-align: top;\n",
       "    }\n",
       "\n",
       "    .dataframe thead th {\n",
       "        text-align: right;\n",
       "    }\n",
       "</style>\n",
       "<table border=\"1\" class=\"dataframe\">\n",
       "  <thead>\n",
       "    <tr style=\"text-align: right;\">\n",
       "      <th></th>\n",
       "      <th>edad</th>\n",
       "      <th>montoSolicitado</th>\n",
       "      <th>montoOtorgado</th>\n",
       "      <th>quincenal</th>\n",
       "      <th>dependientesEconomicos</th>\n",
       "      <th>fico</th>\n",
       "      <th>ingresosMensuales</th>\n",
       "      <th>gastosMensuales</th>\n",
       "      <th>emailScore</th>\n",
       "    </tr>\n",
       "  </thead>\n",
       "  <tbody>\n",
       "    <tr>\n",
       "      <th>count</th>\n",
       "      <td>776.000000</td>\n",
       "      <td>780.000000</td>\n",
       "      <td>780.000000</td>\n",
       "      <td>780.000000</td>\n",
       "      <td>780.000000</td>\n",
       "      <td>780.000000</td>\n",
       "      <td>780.000000</td>\n",
       "      <td>780.000000</td>\n",
       "      <td>780.000000</td>\n",
       "    </tr>\n",
       "    <tr>\n",
       "      <th>mean</th>\n",
       "      <td>35.391753</td>\n",
       "      <td>15410.728538</td>\n",
       "      <td>12097.248590</td>\n",
       "      <td>0.157692</td>\n",
       "      <td>0.987179</td>\n",
       "      <td>538.471795</td>\n",
       "      <td>26010.237385</td>\n",
       "      <td>13255.520513</td>\n",
       "      <td>1.575641</td>\n",
       "    </tr>\n",
       "    <tr>\n",
       "      <th>std</th>\n",
       "      <td>10.321222</td>\n",
       "      <td>16158.668466</td>\n",
       "      <td>12783.504608</td>\n",
       "      <td>0.364686</td>\n",
       "      <td>1.124971</td>\n",
       "      <td>144.516752</td>\n",
       "      <td>41815.285113</td>\n",
       "      <td>31938.391897</td>\n",
       "      <td>5.445557</td>\n",
       "    </tr>\n",
       "    <tr>\n",
       "      <th>min</th>\n",
       "      <td>18.000000</td>\n",
       "      <td>1000.000000</td>\n",
       "      <td>1000.000000</td>\n",
       "      <td>0.000000</td>\n",
       "      <td>0.000000</td>\n",
       "      <td>0.000000</td>\n",
       "      <td>12.000000</td>\n",
       "      <td>2.000000</td>\n",
       "      <td>0.000000</td>\n",
       "    </tr>\n",
       "    <tr>\n",
       "      <th>25%</th>\n",
       "      <td>27.000000</td>\n",
       "      <td>5182.220000</td>\n",
       "      <td>4476.825000</td>\n",
       "      <td>0.000000</td>\n",
       "      <td>0.000000</td>\n",
       "      <td>497.000000</td>\n",
       "      <td>10000.000000</td>\n",
       "      <td>4500.000000</td>\n",
       "      <td>0.000000</td>\n",
       "    </tr>\n",
       "    <tr>\n",
       "      <th>50%</th>\n",
       "      <td>33.000000</td>\n",
       "      <td>11000.000000</td>\n",
       "      <td>8000.000000</td>\n",
       "      <td>0.000000</td>\n",
       "      <td>1.000000</td>\n",
       "      <td>568.000000</td>\n",
       "      <td>16000.000000</td>\n",
       "      <td>7500.000000</td>\n",
       "      <td>1.000000</td>\n",
       "    </tr>\n",
       "    <tr>\n",
       "      <th>75%</th>\n",
       "      <td>41.000000</td>\n",
       "      <td>19000.000000</td>\n",
       "      <td>15200.000000</td>\n",
       "      <td>0.000000</td>\n",
       "      <td>2.000000</td>\n",
       "      <td>622.000000</td>\n",
       "      <td>28000.000000</td>\n",
       "      <td>15000.000000</td>\n",
       "      <td>1.000000</td>\n",
       "    </tr>\n",
       "    <tr>\n",
       "      <th>max</th>\n",
       "      <td>69.000000</td>\n",
       "      <td>150000.000000</td>\n",
       "      <td>100000.000000</td>\n",
       "      <td>1.000000</td>\n",
       "      <td>5.000000</td>\n",
       "      <td>748.000000</td>\n",
       "      <td>900000.000000</td>\n",
       "      <td>750000.000000</td>\n",
       "      <td>80.000000</td>\n",
       "    </tr>\n",
       "  </tbody>\n",
       "</table>\n",
       "</div>"
      ],
      "text/plain": [
       "             edad  montoSolicitado  montoOtorgado   quincenal  \\\n",
       "count  776.000000       780.000000     780.000000  780.000000   \n",
       "mean    35.391753     15410.728538   12097.248590    0.157692   \n",
       "std     10.321222     16158.668466   12783.504608    0.364686   \n",
       "min     18.000000      1000.000000    1000.000000    0.000000   \n",
       "25%     27.000000      5182.220000    4476.825000    0.000000   \n",
       "50%     33.000000     11000.000000    8000.000000    0.000000   \n",
       "75%     41.000000     19000.000000   15200.000000    0.000000   \n",
       "max     69.000000    150000.000000  100000.000000    1.000000   \n",
       "\n",
       "       dependientesEconomicos        fico  ingresosMensuales  gastosMensuales  \\\n",
       "count              780.000000  780.000000         780.000000       780.000000   \n",
       "mean                 0.987179  538.471795       26010.237385     13255.520513   \n",
       "std                  1.124971  144.516752       41815.285113     31938.391897   \n",
       "min                  0.000000    0.000000          12.000000         2.000000   \n",
       "25%                  0.000000  497.000000       10000.000000      4500.000000   \n",
       "50%                  1.000000  568.000000       16000.000000      7500.000000   \n",
       "75%                  2.000000  622.000000       28000.000000     15000.000000   \n",
       "max                  5.000000  748.000000      900000.000000    750000.000000   \n",
       "\n",
       "       emailScore  \n",
       "count  780.000000  \n",
       "mean     1.575641  \n",
       "std      5.445557  \n",
       "min      0.000000  \n",
       "25%      0.000000  \n",
       "50%      1.000000  \n",
       "75%      1.000000  \n",
       "max     80.000000  "
      ]
     },
     "execution_count": 724,
     "metadata": {},
     "output_type": "execute_result"
    }
   ],
   "source": [
    "data_clean[data_clean['label']=='No Moroso'].describe()"
   ]
  },
  {
   "cell_type": "markdown",
   "metadata": {},
   "source": [
    "De las tablas anteriores se destaca que el 50% de los usuarios y en su promedio\n",
    "tienden a pedir un monto mayor respecto a los usuarios que no son morosos"
   ]
  },
  {
   "cell_type": "code",
   "execution_count": 725,
   "metadata": {},
   "outputs": [
    {
     "data": {
      "image/png": "[encoded data removed]",
      "text/plain": [
       "<Figure size 432x720 with 1 Axes>"
      ]
     },
     "metadata": {},
     "output_type": "display_data"
    }
   ],
   "source": [
    "sns.set(style=\"darkgrid\")\n",
    "plt.figure(figsize=(6, 10))\n",
    "sns.boxplot(x=data_clean[\"label\"], y=data_clean[\"montoSolicitado\"], showfliers = False)\n",
    "plt.show()"
   ]
  },
  {
   "cell_type": "markdown",
   "metadata": {},
   "source": [
    "De igual manera destaca que los usuarios morosos tienen un ingreso menor\n"
   ]
  },
  {
   "cell_type": "code",
   "execution_count": 726,
   "metadata": {},
   "outputs": [
    {
     "data": {
      "image/png": "[encoded data removed]",
      "text/plain": [
       "<Figure size 432x720 with 1 Axes>"
      ]
     },
     "metadata": {},
     "output_type": "display_data"
    }
   ],
   "source": [
    "plt.figure(figsize=(6, 10))\n",
    "sns.boxplot(x=data_clean[\"label\"], y=data_clean[\"ingresosMensuales\"], showfliers = False)\n",
    "plt.show()"
   ]
  },
  {
   "cell_type": "markdown",
   "metadata": {},
   "source": [
    "\n",
    "Para el caso de gastosMensuales se debe de tener cierta precaucion ya que se observa que los usuarios morosos gastan menos, sin embargo es importante \n",
    "tomar en cuenta que al tener un ingreso menor es natural que sus gastos sean menores, por lo tanto encontraremos la proporción de gasto vs ingreso "
   ]
  },
  {
   "cell_type": "code",
   "execution_count": 727,
   "metadata": {},
   "outputs": [
    {
     "data": {
      "text/html": [
       "<div>\n",
       "<style scoped>\n",
       "    .dataframe tbody tr th:only-of-type {\n",
       "        vertical-align: middle;\n",
       "    }\n",
       "\n",
       "    .dataframe tbody tr th {\n",
       "        vertical-align: top;\n",
       "    }\n",
       "\n",
       "    .dataframe thead th {\n",
       "        text-align: right;\n",
       "    }\n",
       "</style>\n",
       "<table border=\"1\" class=\"dataframe\">\n",
       "  <thead>\n",
       "    <tr style=\"text-align: right;\">\n",
       "      <th></th>\n",
       "      <th>count</th>\n",
       "      <th>mean</th>\n",
       "      <th>std</th>\n",
       "      <th>min</th>\n",
       "      <th>25%</th>\n",
       "      <th>50%</th>\n",
       "      <th>75%</th>\n",
       "      <th>max</th>\n",
       "    </tr>\n",
       "    <tr>\n",
       "      <th>label</th>\n",
       "      <th></th>\n",
       "      <th></th>\n",
       "      <th></th>\n",
       "      <th></th>\n",
       "      <th></th>\n",
       "      <th></th>\n",
       "      <th></th>\n",
       "      <th></th>\n",
       "    </tr>\n",
       "  </thead>\n",
       "  <tbody>\n",
       "    <tr>\n",
       "      <th>Moroso</th>\n",
       "      <td>220.0</td>\n",
       "      <td>0.664243</td>\n",
       "      <td>1.288290</td>\n",
       "      <td>0.033333</td>\n",
       "      <td>0.349457</td>\n",
       "      <td>0.5</td>\n",
       "      <td>0.6</td>\n",
       "      <td>10.0</td>\n",
       "    </tr>\n",
       "    <tr>\n",
       "      <th>No Moroso</th>\n",
       "      <td>780.0</td>\n",
       "      <td>0.490723</td>\n",
       "      <td>0.314685</td>\n",
       "      <td>0.000360</td>\n",
       "      <td>0.347826</td>\n",
       "      <td>0.5</td>\n",
       "      <td>0.6</td>\n",
       "      <td>7.5</td>\n",
       "    </tr>\n",
       "  </tbody>\n",
       "</table>\n",
       "</div>"
      ],
      "text/plain": [
       "           count      mean       std       min       25%  50%  75%   max\n",
       "label                                                                   \n",
       "Moroso     220.0  0.664243  1.288290  0.033333  0.349457  0.5  0.6  10.0\n",
       "No Moroso  780.0  0.490723  0.314685  0.000360  0.347826  0.5  0.6   7.5"
      ]
     },
     "execution_count": 727,
     "metadata": {},
     "output_type": "execute_result"
    }
   ],
   "source": [
    "data_clean['Proporción de gasto'] = data_clean['gastosMensuales']/data_clean['ingresosMensuales']\n",
    "\n",
    "data_clean.groupby('label')['Proporción de gasto'].describe()"
   ]
  },
  {
   "cell_type": "markdown",
   "metadata": {},
   "source": [
    "De lo anterior podemos destacar que los usuarios Morosos gastan en promedio un 0.664 de su ingreso, mayor al 0.49 de los usaurios No Morosos"
   ]
  },
  {
   "cell_type": "markdown",
   "metadata": {},
   "source": [
    "Veamos la distribucion del nivel de estudios"
   ]
  },
  {
   "cell_type": "code",
   "execution_count": 728,
   "metadata": {},
   "outputs": [],
   "source": [
    "def plot_ratio_by_column_and_label(colum):\n",
    "    \"\"\"Help to plot categorical columns\"\"\"\n",
    "    group_by_label_and_column = (\n",
    "    data_clean.groupby(['label'])[colum]\n",
    "    .value_counts()\n",
    "    .reset_index(name='count')\n",
    "    )\n",
    "\n",
    "    group_by_label_and_column['ratio'] = (\n",
    "        group_by_label_and_column\n",
    "        .groupby('label')['count']\n",
    "        .apply(lambda x: x/x.sum())\n",
    "    )\n",
    "\n",
    "    sns.set(style=\"darkgrid\")\n",
    "    g = sns.FacetGrid(group_by_label_and_column, col=\"label\", height=6, col_wrap=1, hue=\"label\", aspect=.85)\n",
    "    g.map(sns.barplot, \"ratio\", colum)\n",
    "    plt.show()\n",
    "\n"
   ]
  },
  {
   "cell_type": "code",
   "execution_count": 729,
   "metadata": {},
   "outputs": [
    {
     "name": "stderr",
     "output_type": "stream",
     "text": [
      "e:\\Documents\\pruebas\\atrato\\venv\\lib\\site-packages\\seaborn\\axisgrid.py:670: UserWarning: Using the barplot function without specifying `order` is likely to produce an incorrect plot.\n",
      "  warnings.warn(warning)\n"
     ]
    },
    {
     "data": {
      "image/png": "[encoded data removed]",
      "text/plain": [
       "<Figure size 367.2x864 with 2 Axes>"
      ]
     },
     "metadata": {},
     "output_type": "display_data"
    }
   ],
   "source": [
    "plot_ratio_by_column_and_label(\"nivelEstudio\")"
   ]
  },
  {
   "cell_type": "markdown",
   "metadata": {},
   "source": [
    "Lo usuarios que No Morosos en su maypria tinen la universidad"
   ]
  },
  {
   "cell_type": "code",
   "execution_count": 730,
   "metadata": {},
   "outputs": [
    {
     "name": "stderr",
     "output_type": "stream",
     "text": [
      "e:\\Documents\\pruebas\\atrato\\venv\\lib\\site-packages\\seaborn\\axisgrid.py:670: UserWarning: Using the barplot function without specifying `order` is likely to produce an incorrect plot.\n",
      "  warnings.warn(warning)\n"
     ]
    },
    {
     "data": {
      "image/png": "[encoded data removed]",
      "text/plain": [
       "<Figure size 367.2x864 with 2 Axes>"
      ]
     },
     "metadata": {},
     "output_type": "display_data"
    }
   ],
   "source": [
    "plot_ratio_by_column_and_label('browser')"
   ]
  },
  {
   "cell_type": "markdown",
   "metadata": {},
   "source": [
    "Ambos tipos de usurios tienen una distribucion similar, se puede destacar que los usuarios Morosos se conectan en su mayoria por CHROME_MOBILE"
   ]
  },
  {
   "cell_type": "code",
   "execution_count": 731,
   "metadata": {},
   "outputs": [
    {
     "name": "stderr",
     "output_type": "stream",
     "text": [
      "e:\\Documents\\pruebas\\atrato\\venv\\lib\\site-packages\\seaborn\\axisgrid.py:670: UserWarning: Using the barplot function without specifying `order` is likely to produce an incorrect plot.\n",
      "  warnings.warn(warning)\n"
     ]
    },
    {
     "data": {
      "image/png": "[encoded data removed]",
      "text/plain": [
       "<Figure size 367.2x864 with 2 Axes>"
      ]
     },
     "metadata": {},
     "output_type": "display_data"
    }
   ],
   "source": [
    "plot_ratio_by_column_and_label(\"NUMTDC_AV\")"
   ]
  },
  {
   "cell_type": "markdown",
   "metadata": {},
   "source": [
    "Genial ya tenemos ciertas caracteristicas generales de los datos ahora toca crear un modelo "
   ]
  },
  {
   "cell_type": "markdown",
   "metadata": {},
   "source": [
    "# Modelado"
   ]
  },
  {
   "cell_type": "markdown",
   "metadata": {},
   "source": [
    "Al ser un modelo de clasificacion binaria supervisada, el primero modelo que viene a la mente es un la regresion logistica que \n",
    "usualmente en la literatura es el primer modelo que se confronta a este tipo de problema.\n",
    "\n",
    "Por lo que la regresion logistica sera nuestro punto de partida para comparar con otros modelos y conocer si existe mejoria o no \n",
    "con cada nuevo modelo\n",
    "\n",
    "Al hablar de \"mejor\" o \"peor\" respecto a cada modelo nos basaremos en \"F1 score\" ya que este es un problema de clasificacion \n",
    "desvalanceado https://neptune.ai/blog/f1-score-accuracy-roc-auc-pr-auc, "
   ]
  },
  {
   "cell_type": "markdown",
   "metadata": {},
   "source": [
    "## Preprosesamiento"
   ]
  },
  {
   "cell_type": "code",
   "execution_count": 732,
   "metadata": {},
   "outputs": [],
   "source": [
    "from sklearn.model_selection import train_test_split\n",
    "\n",
    "X = data_clean.drop(['label'], axis=1)\n",
    "#Lo convertimos en binario cómo originalmente se encontraba\n",
    "y = data_clean.label.apply(lambda x: 1 if x == 'Moroso' else 0)\n",
    "\n",
    "\n",
    "X_train, X_valid, y_train, y_valid = train_test_split(X, y,test_size=.3,random_state=100, stratify=y)"
   ]
  },
  {
   "cell_type": "markdown",
   "metadata": {},
   "source": [
    "Nos apoyaremos de los pipeline de sklearn los cuales nos ayudan a simplicar mucho todo el proceso de entrenamiento"
   ]
  },
  {
   "cell_type": "code",
   "execution_count": 733,
   "metadata": {},
   "outputs": [],
   "source": [
    "from sklearn.impute import SimpleImputer\n",
    "from sklearn.preprocessing import OneHotEncoder, MinMaxScaler\n",
    "from sklearn.pipeline import Pipeline\n",
    "\n",
    "# Para el escalado de las variables nuemericas usaremos MinMaxScaler\n",
    "numeric_pipeline = Pipeline(steps=[\n",
    "    ('impute', SimpleImputer(strategy='mean')),\n",
    "    ('scale', MinMaxScaler())\n",
    "])\n",
    "\n",
    "# handle_unknown='ignore' es muy importante por si se introduce una categoria que no se encontraba durante el po\n",
    "# proceso de entrenamiento\n",
    "categorical_pipeline = Pipeline(steps=[\n",
    "    ('one-hot', OneHotEncoder(handle_unknown='ignore', sparse=False))\n",
    "])\n",
    "\n",
    "from sklearn.compose import ColumnTransformer\n",
    "numerical_features = X_train.select_dtypes(include=['number']).columns\n",
    "categorical_features = X_train.select_dtypes(exclude=['number']).columns\n",
    "\n",
    "full_processor = ColumnTransformer(transformers=[\n",
    "    ('number', numeric_pipeline, numerical_features),\n",
    "    ('category', categorical_pipeline, categorical_features)\n",
    "])\n"
   ]
  },
  {
   "cell_type": "markdown",
   "metadata": {},
   "source": [
    "Con el pipeline anterior es más sencillo el preprosesamiento y nos enfocaremos en la seleccion del modelo"
   ]
  },
  {
   "cell_type": "markdown",
   "metadata": {},
   "source": [
    "## Regresion Logistica\n",
    "\n",
    "Este es nuestro primero modelo y sera nuestro 'baseline' para hacer contraste en la mejora de cada nuevo modelo"
   ]
  },
  {
   "cell_type": "code",
   "execution_count": 734,
   "metadata": {},
   "outputs": [],
   "source": [
    "from sklearn.linear_model import LogisticRegression\n",
    "from sklearn.metrics import f1_score, fbeta_score\n",
    "\n",
    "logisticregression = LogisticRegression()\n",
    "\n",
    "logisticregression_pipeline = Pipeline(steps=[\n",
    "    ('preprocess', full_processor),\n",
    "    ('model', logisticregression)\n",
    "])"
   ]
  },
  {
   "cell_type": "code",
   "execution_count": 735,
   "metadata": {},
   "outputs": [],
   "source": [
    "_ = logisticregression_pipeline.fit(X_train, y_train)"
   ]
  },
  {
   "cell_type": "markdown",
   "metadata": {},
   "source": [
    "Una vez ajustado el modelo un paso importante es encontrar el mejor 'threshold'\n",
    "por lo tanto en busqueda de optimizar nuestro F1 score nos apoyaremos de distintos modelos y cada uno con distintos 'thresholds'"
   ]
  },
  {
   "cell_type": "code",
   "execution_count": 736,
   "metadata": {},
   "outputs": [],
   "source": [
    "from sklearn.metrics import confusion_matrix\n",
    "\n",
    "def get_f1_by_threshold(threshold, model_pipline):\n",
    "    \"\"\"Calcula el F1 para distintos threshold\"\"\"\n",
    "    y_pred_pos = model_pipline.predict_proba(X_valid)[:,1] # probabilidades de pertenecer a la clase 1\n",
    "    y_pred_class = y_pred_pos > threshold\n",
    "\n",
    "    return (f1_score(y_valid, y_pred_class))\n",
    "\n",
    "\n",
    "def threshold_f1_plot(model_pipeline, show_plot = True):\n",
    "    \"\"\"Grafica el f1 para cada threshold del modelo\"\"\"\n",
    "    f1_values = [get_f1_by_threshold(threshold, model_pipeline) for threshold in np.linspace(0,1,100)]\n",
    "\n",
    "    df = pd.DataFrame({\n",
    "        'f1_values':f1_values, \n",
    "        'threshold': np.linspace(0,1,100)}\n",
    "        )\n",
    "\n",
    "    f1_value, threshold = df.sort_values('f1_values', ascending = False).iloc[0]\n",
    "\n",
    "    if show_plot:\n",
    "        \n",
    "        plt.figure(figsize = (15, 5))\n",
    "        plt.axvline(threshold, color='r', linestyle='--')\n",
    "        plt.text(threshold+0.02, f1_value, f\"f1_value : {round(f1_value, 3)} threshold : {round(threshold, 3)} \", horizontalalignment='left', size='medium', color='black', weight='semibold')\n",
    "        sns.lineplot(x=df['threshold'], y=df['f1_values'])\n",
    "        sns.scatterplot(x=df['threshold'], y=df['f1_values'])\n",
    "        plt.show()\n",
    "\n",
    "\n",
    "    return f1_value, threshold \n"
   ]
  },
  {
   "cell_type": "code",
   "execution_count": 737,
   "metadata": {},
   "outputs": [
    {
     "data": {
      "image/png": "[encoded data removed]",
      "text/plain": [
       "<Figure size 1080x360 with 1 Axes>"
      ]
     },
     "metadata": {},
     "output_type": "display_data"
    }
   ],
   "source": [
    "f1_value, threshold  = threshold_f1_plot(logisticregression_pipeline)"
   ]
  },
  {
   "cell_type": "code",
   "execution_count": 738,
   "metadata": {},
   "outputs": [
    {
     "name": "stdout",
     "output_type": "stream",
     "text": [
      "[[113 121]\n",
      " [ 15  51]]\n"
     ]
    }
   ],
   "source": [
    "# al obtener el threshold con el mayor F1 procedemos a clasificar a cada usuario\n",
    "y_pred_prob = logisticregression_pipeline.predict_proba(X_valid)[:,1] # probabilidades de pertenecer a la clase 1\n",
    "y_pred_class = y_pred_prob > threshold\n",
    "cm = confusion_matrix(y_valid, y_pred_class)\n",
    "print(cm)"
   ]
  },
  {
   "cell_type": "code",
   "execution_count": 747,
   "metadata": {},
   "outputs": [
    {
     "data": {
      "image/png": "[encoded data removed]",
      "text/plain": [
       "<Figure size 648x648 with 2 Axes>"
      ]
     },
     "metadata": {},
     "output_type": "display_data"
    }
   ],
   "source": [
    "plt.figure(figsize=(9,9))\n",
    "sns.heatmap(cm, annot=True, fmt=\".3f\", linewidths=.5, square = True, cmap = 'Blues_r')\n",
    "plt.ylabel('Actual label')\n",
    "plt.xlabel('Predicted label')\n",
    "score = logisticregression_pipeline.score(X_valid, y_valid)\n",
    "\n",
    "# al tener un mayor tenemos una alta garantia de qu pagaran de verdaderos negaticvos "
   ]
  },
  {
   "cell_type": "markdown",
   "metadata": {},
   "source": [
    "## linear SVM\n",
    "## Naive bayes"
   ]
  },
  {
   "cell_type": "code",
   "execution_count": 740,
   "metadata": {},
   "outputs": [
    {
     "data": {
      "image/png": "[encoded data removed]",
      "text/plain": [
       "<Figure size 1080x360 with 1 Axes>"
      ]
     },
     "metadata": {},
     "output_type": "display_data"
    }
   ],
   "source": [
    "from sklearn.naive_bayes import GaussianNB\n",
    "gnb = GaussianNB()\n",
    "\n",
    "gnb_pipeline = Pipeline(steps=[\n",
    "    ('preprocess', full_processor),\n",
    "    ('model', gnb)\n",
    "])\n",
    " \n",
    "gnb_pipeline.fit(X_train, y_train)\n",
    "\n",
    "f1_value, threshold  = threshold_f1_plot(gnb_pipeline)"
   ]
  },
  {
   "cell_type": "markdown",
   "metadata": {},
   "source": [
    "## KNeighborsClassifier\n",
    "\n",
    "Para el caso de knn el principal problema es la seccion correcta del valor de k nos limitaremos a solo seleccionar 3 valores de k\n",
    "20, 30 y 40"
   ]
  },
  {
   "cell_type": "code",
   "execution_count": 741,
   "metadata": {},
   "outputs": [
    {
     "data": {
      "image/png": "[encoded data removed]",
      "text/plain": [
       "<Figure size 1080x360 with 1 Axes>"
      ]
     },
     "metadata": {},
     "output_type": "display_data"
    }
   ],
   "source": [
    "from sklearn.neighbors import KNeighborsClassifier\n",
    "knn = KNeighborsClassifier(n_neighbors=20)  \n",
    "\n",
    "knn_pipeline = Pipeline(steps=[\n",
    "    ('preprocess', full_processor),\n",
    "    ('model', knn)\n",
    "])\n",
    "\n",
    "_ = knn_pipeline.fit(X_train, y_train)\n",
    "\n",
    "f1_value, threshold  = threshold_f1_plot(knn_pipeline)"
   ]
  },
  {
   "cell_type": "code",
   "execution_count": 742,
   "metadata": {},
   "outputs": [
    {
     "data": {
      "image/png": "[encoded data removed]",
      "text/plain": [
       "<Figure size 1080x360 with 1 Axes>"
      ]
     },
     "metadata": {},
     "output_type": "display_data"
    }
   ],
   "source": [
    "knn = KNeighborsClassifier(n_neighbors=30)  \n",
    "\n",
    "knn_pipeline = Pipeline(steps=[\n",
    "    ('preprocess', full_processor),\n",
    "    ('model', knn)\n",
    "])\n",
    "\n",
    "_ = knn_pipeline.fit(X_train, y_train)\n",
    "\n",
    "f1_value, threshold  = threshold_f1_plot(knn_pipeline)"
   ]
  },
  {
   "cell_type": "code",
   "execution_count": 743,
   "metadata": {},
   "outputs": [
    {
     "data": {
      "image/png": "[encoded data removed]",
      "text/plain": [
       "<Figure size 1080x360 with 1 Axes>"
      ]
     },
     "metadata": {},
     "output_type": "display_data"
    }
   ],
   "source": [
    "knn = KNeighborsClassifier(n_neighbors=40)  \n",
    "\n",
    "knn_pipeline = Pipeline(steps=[\n",
    "    ('preprocess', full_processor),\n",
    "    ('model', knn)\n",
    "])\n",
    "\n",
    "_ = knn_pipeline.fit(X_train, y_train)\n",
    "\n",
    "f1_value, threshold  = threshold_f1_plot(knn_pipeline)"
   ]
  },
  {
   "cell_type": "markdown",
   "metadata": {},
   "source": [
    "de los 3 el mejor es con k = 30"
   ]
  },
  {
   "cell_type": "markdown",
   "metadata": {},
   "source": [
    "## RandomForestClassifier"
   ]
  },
  {
   "cell_type": "code",
   "execution_count": 744,
   "metadata": {},
   "outputs": [
    {
     "data": {
      "image/png": "[encoded data removed]",
      "text/plain": [
       "<Figure size 1080x360 with 1 Axes>"
      ]
     },
     "metadata": {},
     "output_type": "display_data"
    }
   ],
   "source": [
    "from sklearn.ensemble import RandomForestClassifier\n",
    "rf = RandomForestClassifier(random_state=20)  \n",
    "\n",
    "\n",
    "rf_pipeline = Pipeline(steps=[\n",
    "    ('preprocess', full_processor),\n",
    "    ('model', rf)\n",
    "])\n",
    "\n",
    "rf_pipeline.fit(X_train, y_train)\n",
    "\n",
    "f1_value, threshold  = threshold_f1_plot(rf_pipeline)\n"
   ]
  },
  {
   "cell_type": "code",
   "execution_count": 745,
   "metadata": {},
   "outputs": [
    {
     "name": "stdout",
     "output_type": "stream",
     "text": [
      "[[158  76]\n",
      " [ 24  42]]\n"
     ]
    }
   ],
   "source": [
    "y_pred_pos = rf_pipeline.predict_proba(X_valid)[:,1] # probabilidades de pertenecer a la clase 1\n",
    "y_pred_class = y_pred_pos > threshold\n",
    "cm = confusion_matrix(y_valid, y_pred_class)\n",
    "print(cm)"
   ]
  },
  {
   "cell_type": "code",
   "execution_count": 746,
   "metadata": {},
   "outputs": [
    {
     "data": {
      "text/html": [
       "<div>\n",
       "<style scoped>\n",
       "    .dataframe tbody tr th:only-of-type {\n",
       "        vertical-align: middle;\n",
       "    }\n",
       "\n",
       "    .dataframe tbody tr th {\n",
       "        vertical-align: top;\n",
       "    }\n",
       "\n",
       "    .dataframe thead th {\n",
       "        text-align: right;\n",
       "    }\n",
       "</style>\n",
       "<table border=\"1\" class=\"dataframe\">\n",
       "  <thead>\n",
       "    <tr style=\"text-align: right;\">\n",
       "      <th></th>\n",
       "      <th>ids</th>\n",
       "      <th>label</th>\n",
       "    </tr>\n",
       "  </thead>\n",
       "  <tbody>\n",
       "    <tr>\n",
       "      <th>287</th>\n",
       "      <td>0</td>\n",
       "      <td>0</td>\n",
       "    </tr>\n",
       "    <tr>\n",
       "      <th>327</th>\n",
       "      <td>1</td>\n",
       "      <td>0</td>\n",
       "    </tr>\n",
       "    <tr>\n",
       "      <th>343</th>\n",
       "      <td>0</td>\n",
       "      <td>0</td>\n",
       "    </tr>\n",
       "    <tr>\n",
       "      <th>416</th>\n",
       "      <td>0</td>\n",
       "      <td>1</td>\n",
       "    </tr>\n",
       "    <tr>\n",
       "      <th>8</th>\n",
       "      <td>1</td>\n",
       "      <td>0</td>\n",
       "    </tr>\n",
       "    <tr>\n",
       "      <th>845</th>\n",
       "      <td>0</td>\n",
       "      <td>1</td>\n",
       "    </tr>\n",
       "    <tr>\n",
       "      <th>476</th>\n",
       "      <td>0</td>\n",
       "      <td>0</td>\n",
       "    </tr>\n",
       "    <tr>\n",
       "      <th>943</th>\n",
       "      <td>0</td>\n",
       "      <td>0</td>\n",
       "    </tr>\n",
       "    <tr>\n",
       "      <th>149</th>\n",
       "      <td>1</td>\n",
       "      <td>1</td>\n",
       "    </tr>\n",
       "    <tr>\n",
       "      <th>732</th>\n",
       "      <td>0</td>\n",
       "      <td>1</td>\n",
       "    </tr>\n",
       "    <tr>\n",
       "      <th>648</th>\n",
       "      <td>0</td>\n",
       "      <td>0</td>\n",
       "    </tr>\n",
       "    <tr>\n",
       "      <th>294</th>\n",
       "      <td>0</td>\n",
       "      <td>1</td>\n",
       "    </tr>\n",
       "    <tr>\n",
       "      <th>515</th>\n",
       "      <td>1</td>\n",
       "      <td>0</td>\n",
       "    </tr>\n",
       "    <tr>\n",
       "      <th>602</th>\n",
       "      <td>0</td>\n",
       "      <td>0</td>\n",
       "    </tr>\n",
       "    <tr>\n",
       "      <th>81</th>\n",
       "      <td>0</td>\n",
       "      <td>0</td>\n",
       "    </tr>\n",
       "    <tr>\n",
       "      <th>264</th>\n",
       "      <td>0</td>\n",
       "      <td>0</td>\n",
       "    </tr>\n",
       "    <tr>\n",
       "      <th>564</th>\n",
       "      <td>0</td>\n",
       "      <td>1</td>\n",
       "    </tr>\n",
       "    <tr>\n",
       "      <th>800</th>\n",
       "      <td>0</td>\n",
       "      <td>1</td>\n",
       "    </tr>\n",
       "    <tr>\n",
       "      <th>776</th>\n",
       "      <td>0</td>\n",
       "      <td>0</td>\n",
       "    </tr>\n",
       "    <tr>\n",
       "      <th>744</th>\n",
       "      <td>0</td>\n",
       "      <td>1</td>\n",
       "    </tr>\n",
       "    <tr>\n",
       "      <th>225</th>\n",
       "      <td>0</td>\n",
       "      <td>1</td>\n",
       "    </tr>\n",
       "    <tr>\n",
       "      <th>795</th>\n",
       "      <td>0</td>\n",
       "      <td>0</td>\n",
       "    </tr>\n",
       "    <tr>\n",
       "      <th>831</th>\n",
       "      <td>0</td>\n",
       "      <td>1</td>\n",
       "    </tr>\n",
       "    <tr>\n",
       "      <th>517</th>\n",
       "      <td>0</td>\n",
       "      <td>0</td>\n",
       "    </tr>\n",
       "    <tr>\n",
       "      <th>915</th>\n",
       "      <td>0</td>\n",
       "      <td>0</td>\n",
       "    </tr>\n",
       "    <tr>\n",
       "      <th>710</th>\n",
       "      <td>0</td>\n",
       "      <td>0</td>\n",
       "    </tr>\n",
       "    <tr>\n",
       "      <th>70</th>\n",
       "      <td>0</td>\n",
       "      <td>1</td>\n",
       "    </tr>\n",
       "    <tr>\n",
       "      <th>156</th>\n",
       "      <td>0</td>\n",
       "      <td>1</td>\n",
       "    </tr>\n",
       "    <tr>\n",
       "      <th>171</th>\n",
       "      <td>0</td>\n",
       "      <td>0</td>\n",
       "    </tr>\n",
       "    <tr>\n",
       "      <th>908</th>\n",
       "      <td>0</td>\n",
       "      <td>0</td>\n",
       "    </tr>\n",
       "    <tr>\n",
       "      <th>523</th>\n",
       "      <td>0</td>\n",
       "      <td>0</td>\n",
       "    </tr>\n",
       "    <tr>\n",
       "      <th>761</th>\n",
       "      <td>0</td>\n",
       "      <td>0</td>\n",
       "    </tr>\n",
       "    <tr>\n",
       "      <th>399</th>\n",
       "      <td>0</td>\n",
       "      <td>0</td>\n",
       "    </tr>\n",
       "    <tr>\n",
       "      <th>107</th>\n",
       "      <td>0</td>\n",
       "      <td>0</td>\n",
       "    </tr>\n",
       "    <tr>\n",
       "      <th>451</th>\n",
       "      <td>0</td>\n",
       "      <td>0</td>\n",
       "    </tr>\n",
       "    <tr>\n",
       "      <th>447</th>\n",
       "      <td>0</td>\n",
       "      <td>0</td>\n",
       "    </tr>\n",
       "    <tr>\n",
       "      <th>398</th>\n",
       "      <td>1</td>\n",
       "      <td>1</td>\n",
       "    </tr>\n",
       "    <tr>\n",
       "      <th>136</th>\n",
       "      <td>1</td>\n",
       "      <td>1</td>\n",
       "    </tr>\n",
       "    <tr>\n",
       "      <th>971</th>\n",
       "      <td>0</td>\n",
       "      <td>0</td>\n",
       "    </tr>\n",
       "    <tr>\n",
       "      <th>697</th>\n",
       "      <td>0</td>\n",
       "      <td>0</td>\n",
       "    </tr>\n",
       "  </tbody>\n",
       "</table>\n",
       "</div>"
      ],
      "text/plain": [
       "     ids  label\n",
       "287    0      0\n",
       "327    1      0\n",
       "343    0      0\n",
       "416    0      1\n",
       "8      1      0\n",
       "845    0      1\n",
       "476    0      0\n",
       "943    0      0\n",
       "149    1      1\n",
       "732    0      1\n",
       "648    0      0\n",
       "294    0      1\n",
       "515    1      0\n",
       "602    0      0\n",
       "81     0      0\n",
       "264    0      0\n",
       "564    0      1\n",
       "800    0      1\n",
       "776    0      0\n",
       "744    0      1\n",
       "225    0      1\n",
       "795    0      0\n",
       "831    0      1\n",
       "517    0      0\n",
       "915    0      0\n",
       "710    0      0\n",
       "70     0      1\n",
       "156    0      1\n",
       "171    0      0\n",
       "908    0      0\n",
       "523    0      0\n",
       "761    0      0\n",
       "399    0      0\n",
       "107    0      0\n",
       "451    0      0\n",
       "447    0      0\n",
       "398    1      1\n",
       "136    1      1\n",
       "971    0      0\n",
       "697    0      0"
      ]
     },
     "execution_count": 746,
     "metadata": {},
     "output_type": "execute_result"
    }
   ],
   "source": [
    "pd.DataFrame({'ids':y_valid, 'label':y_pred_class.astype(int)})[:40]"
   ]
  },
  {
   "cell_type": "markdown",
   "metadata": {},
   "source": [
    "## lightgbm"
   ]
  },
  {
   "cell_type": "code",
   "execution_count": 373,
   "metadata": {},
   "outputs": [
    {
     "data": {
      "image/png": "[encoded data removed]",
      "text/plain": [
       "<Figure size 1080x360 with 1 Axes>"
      ]
     },
     "metadata": {},
     "output_type": "display_data"
    }
   ],
   "source": [
    "import lightgbm as lgb\n",
    "lgbmc = lgb.LGBMClassifier()\n",
    "\n",
    "lgbmc_pipeline = Pipeline(steps=[\n",
    "    ('preprocess', full_processor),\n",
    "    ('model', lgbmc)\n",
    "])\n",
    "\n",
    "lgbmc_pipeline.fit(X_train, y_train)\n",
    "f1_value, threshold  = threshold_f1_plot(lgbmc_pipeline)"
   ]
  },
  {
   "cell_type": "code",
   "execution_count": 429,
   "metadata": {},
   "outputs": [
    {
     "name": "stdout",
     "output_type": "stream",
     "text": [
      "[[ 75 159]\n",
      " [  7  59]]\n"
     ]
    }
   ],
   "source": [
    "y_pred_pos = rf_pipeline.predict_proba(X_valid)[:,1] # probabilidades de pertenecer a la clase 1\n",
    "y_pred_class = y_pred_pos > threshold\n",
    "cm = confusion_matrix(y_valid, y_pred_class)\n",
    "print(cm)"
   ]
  },
  {
   "cell_type": "code",
   "execution_count": 451,
   "metadata": {},
   "outputs": [
    {
     "data": {
      "text/html": [
       "<div>\n",
       "<style scoped>\n",
       "    .dataframe tbody tr th:only-of-type {\n",
       "        vertical-align: middle;\n",
       "    }\n",
       "\n",
       "    .dataframe tbody tr th {\n",
       "        vertical-align: top;\n",
       "    }\n",
       "\n",
       "    .dataframe thead th {\n",
       "        text-align: right;\n",
       "    }\n",
       "</style>\n",
       "<table border=\"1\" class=\"dataframe\">\n",
       "  <thead>\n",
       "    <tr style=\"text-align: right;\">\n",
       "      <th></th>\n",
       "      <th>ids</th>\n",
       "      <th>label</th>\n",
       "    </tr>\n",
       "  </thead>\n",
       "  <tbody>\n",
       "    <tr>\n",
       "      <th>287</th>\n",
       "      <td>0</td>\n",
       "      <td>0</td>\n",
       "    </tr>\n",
       "    <tr>\n",
       "      <th>327</th>\n",
       "      <td>1</td>\n",
       "      <td>1</td>\n",
       "    </tr>\n",
       "    <tr>\n",
       "      <th>343</th>\n",
       "      <td>0</td>\n",
       "      <td>0</td>\n",
       "    </tr>\n",
       "    <tr>\n",
       "      <th>416</th>\n",
       "      <td>0</td>\n",
       "      <td>1</td>\n",
       "    </tr>\n",
       "    <tr>\n",
       "      <th>8</th>\n",
       "      <td>1</td>\n",
       "      <td>0</td>\n",
       "    </tr>\n",
       "    <tr>\n",
       "      <th>...</th>\n",
       "      <td>...</td>\n",
       "      <td>...</td>\n",
       "    </tr>\n",
       "    <tr>\n",
       "      <th>641</th>\n",
       "      <td>0</td>\n",
       "      <td>1</td>\n",
       "    </tr>\n",
       "    <tr>\n",
       "      <th>117</th>\n",
       "      <td>0</td>\n",
       "      <td>1</td>\n",
       "    </tr>\n",
       "    <tr>\n",
       "      <th>279</th>\n",
       "      <td>0</td>\n",
       "      <td>1</td>\n",
       "    </tr>\n",
       "    <tr>\n",
       "      <th>955</th>\n",
       "      <td>0</td>\n",
       "      <td>1</td>\n",
       "    </tr>\n",
       "    <tr>\n",
       "      <th>172</th>\n",
       "      <td>0</td>\n",
       "      <td>1</td>\n",
       "    </tr>\n",
       "  </tbody>\n",
       "</table>\n",
       "<p>300 rows × 2 columns</p>\n",
       "</div>"
      ],
      "text/plain": [
       "     ids  label\n",
       "287    0      0\n",
       "327    1      1\n",
       "343    0      0\n",
       "416    0      1\n",
       "8      1      0\n",
       "..   ...    ...\n",
       "641    0      1\n",
       "117    0      1\n",
       "279    0      1\n",
       "955    0      1\n",
       "172    0      1\n",
       "\n",
       "[300 rows x 2 columns]"
      ]
     },
     "execution_count": 451,
     "metadata": {},
     "output_type": "execute_result"
    }
   ],
   "source": [
    "pd.DataFrame({'ids':y_valid, 'label':y_pred_class.astype(int)})"
   ]
  },
  {
   "cell_type": "markdown",
   "metadata": {},
   "source": [
    "# Guardado del mejor modelo\n",
    "\n",
    "Al comparar los ditintos modelos observamos que el que tuvo un mejor comportamiento (mayor valor de F1)\n",
    "fue Random Forest por lo tanto este es el modelo usado en producción"
   ]
  },
  {
   "cell_type": "code",
   "execution_count": 299,
   "metadata": {},
   "outputs": [],
   "source": [
    "joblib.dump(rf_pipeline, gzip.open('model/model_binary_class.dat.gz', \"wb\"))\n",
    "\n",
    "rf_pipeline.fit(X_train, y_train)\n",
    "\n",
    "# Guardamos el f1 actual del modelo así como el mejor threshold\n",
    "\n",
    "f1_value, threshold  = threshold_f1_plot(rf_pipeline, show_plot = False)\n",
    "\n",
    "data = {\n",
    "    'f1_value' : f1_value,\n",
    "    'threshold' : threshold,\n",
    "        }\n",
    "\n",
    "with open('model/model_outputs.json', 'w') as outfile:\n",
    "    json.dump(data, outfile, indent=4)"
   ]
  },
  {
   "cell_type": "markdown",
   "metadata": {},
   "source": [
    "# Conclusiones \n",
    "\n",
    "Una vez explorado los modelos anteriores sin hacer una optimizacion de parametros tienden a comportarse de manera muy similar\n",
    "sin embargo el modelo seleccionado es el de Random Forest ya que mostro un mayor F1 score"
   ]
  },
  {
   "cell_type": "markdown",
   "metadata": {},
   "source": [
    "# Prediccion para Test Data\n",
    "\n",
    "Ahora toca hacer la predicción de los 'Test Data'"
   ]
  },
  {
   "cell_type": "code",
   "execution_count": 748,
   "metadata": {},
   "outputs": [
    {
     "data": {
      "text/html": [
       "<div>\n",
       "<style scoped>\n",
       "    .dataframe tbody tr th:only-of-type {\n",
       "        vertical-align: middle;\n",
       "    }\n",
       "\n",
       "    .dataframe tbody tr th {\n",
       "        vertical-align: top;\n",
       "    }\n",
       "\n",
       "    .dataframe thead th {\n",
       "        text-align: right;\n",
       "    }\n",
       "</style>\n",
       "<table border=\"1\" class=\"dataframe\">\n",
       "  <thead>\n",
       "    <tr style=\"text-align: right;\">\n",
       "      <th></th>\n",
       "      <th>ID</th>\n",
       "      <th>edad</th>\n",
       "      <th>montoSolicitado</th>\n",
       "      <th>montoOtorgado</th>\n",
       "      <th>genero</th>\n",
       "      <th>quincenal</th>\n",
       "      <th>dependientesEconomicos</th>\n",
       "      <th>nivelEstudio</th>\n",
       "      <th>fico</th>\n",
       "      <th>ingresosMensuales</th>\n",
       "      <th>gastosMensuales</th>\n",
       "      <th>emailScore</th>\n",
       "      <th>browser</th>\n",
       "      <th>NUMTDC_AV</th>\n",
       "    </tr>\n",
       "  </thead>\n",
       "  <tbody>\n",
       "    <tr>\n",
       "      <th>0</th>\n",
       "      <td>1</td>\n",
       "      <td>30.0</td>\n",
       "      <td>20000.0</td>\n",
       "      <td>40000.0</td>\n",
       "      <td>Hombre</td>\n",
       "      <td>1</td>\n",
       "      <td>0</td>\n",
       "      <td>Universidad</td>\n",
       "      <td>575</td>\n",
       "      <td>25000.0</td>\n",
       "      <td>15000</td>\n",
       "      <td>1.0</td>\n",
       "      <td>UNKNOWN</td>\n",
       "      <td>3 o menos TC</td>\n",
       "    </tr>\n",
       "    <tr>\n",
       "      <th>1</th>\n",
       "      <td>2</td>\n",
       "      <td>31.0</td>\n",
       "      <td>2000.0</td>\n",
       "      <td>2000.0</td>\n",
       "      <td>Hombre</td>\n",
       "      <td>0</td>\n",
       "      <td>4</td>\n",
       "      <td>Preparatoria</td>\n",
       "      <td>635</td>\n",
       "      <td>12000.0</td>\n",
       "      <td>8000</td>\n",
       "      <td>8.0</td>\n",
       "      <td>CHROME9</td>\n",
       "      <td>UNKNOWN</td>\n",
       "    </tr>\n",
       "    <tr>\n",
       "      <th>2</th>\n",
       "      <td>3</td>\n",
       "      <td>29.0</td>\n",
       "      <td>15000.0</td>\n",
       "      <td>15000.0</td>\n",
       "      <td>Mujer</td>\n",
       "      <td>0</td>\n",
       "      <td>0</td>\n",
       "      <td>Universidad</td>\n",
       "      <td>568</td>\n",
       "      <td>20000.0</td>\n",
       "      <td>14000</td>\n",
       "      <td>0.0</td>\n",
       "      <td>CHROME_MOBILE</td>\n",
       "      <td>3 o menos TC</td>\n",
       "    </tr>\n",
       "    <tr>\n",
       "      <th>3</th>\n",
       "      <td>4</td>\n",
       "      <td>20.0</td>\n",
       "      <td>7000.0</td>\n",
       "      <td>6000.0</td>\n",
       "      <td>Mujer</td>\n",
       "      <td>0</td>\n",
       "      <td>1</td>\n",
       "      <td>Preparatoria</td>\n",
       "      <td>643</td>\n",
       "      <td>2000.0</td>\n",
       "      <td>6000</td>\n",
       "      <td>1.0</td>\n",
       "      <td>CHROME_MOBILE</td>\n",
       "      <td>UNKNOWN</td>\n",
       "    </tr>\n",
       "    <tr>\n",
       "      <th>4</th>\n",
       "      <td>5</td>\n",
       "      <td>34.0</td>\n",
       "      <td>18000.0</td>\n",
       "      <td>12999.0</td>\n",
       "      <td>Hombre</td>\n",
       "      <td>1</td>\n",
       "      <td>1</td>\n",
       "      <td>Universidad</td>\n",
       "      <td>546</td>\n",
       "      <td>50000.0</td>\n",
       "      <td>30000</td>\n",
       "      <td>0.0</td>\n",
       "      <td>APPLE_WEB_KIT</td>\n",
       "      <td>3 o menos TC</td>\n",
       "    </tr>\n",
       "    <tr>\n",
       "      <th>...</th>\n",
       "      <td>...</td>\n",
       "      <td>...</td>\n",
       "      <td>...</td>\n",
       "      <td>...</td>\n",
       "      <td>...</td>\n",
       "      <td>...</td>\n",
       "      <td>...</td>\n",
       "      <td>...</td>\n",
       "      <td>...</td>\n",
       "      <td>...</td>\n",
       "      <td>...</td>\n",
       "      <td>...</td>\n",
       "      <td>...</td>\n",
       "      <td>...</td>\n",
       "    </tr>\n",
       "    <tr>\n",
       "      <th>295</th>\n",
       "      <td>296</td>\n",
       "      <td>27.0</td>\n",
       "      <td>1779.0</td>\n",
       "      <td>1779.0</td>\n",
       "      <td>Mujer</td>\n",
       "      <td>1</td>\n",
       "      <td>0</td>\n",
       "      <td>Universidad</td>\n",
       "      <td>511</td>\n",
       "      <td>38000.0</td>\n",
       "      <td>20000</td>\n",
       "      <td>8.0</td>\n",
       "      <td>CHROME9</td>\n",
       "      <td>Mas de 3 TC</td>\n",
       "    </tr>\n",
       "    <tr>\n",
       "      <th>296</th>\n",
       "      <td>297</td>\n",
       "      <td>36.0</td>\n",
       "      <td>19700.0</td>\n",
       "      <td>19700.0</td>\n",
       "      <td>Mujer</td>\n",
       "      <td>0</td>\n",
       "      <td>0</td>\n",
       "      <td>Universidad</td>\n",
       "      <td>491</td>\n",
       "      <td>32000.0</td>\n",
       "      <td>17000</td>\n",
       "      <td>0.0</td>\n",
       "      <td>CHROME_MOBILE</td>\n",
       "      <td>3 o menos TC</td>\n",
       "    </tr>\n",
       "    <tr>\n",
       "      <th>297</th>\n",
       "      <td>298</td>\n",
       "      <td>49.0</td>\n",
       "      <td>6000.0</td>\n",
       "      <td>3000.0</td>\n",
       "      <td>Hombre</td>\n",
       "      <td>1</td>\n",
       "      <td>1</td>\n",
       "      <td>Preparatoria</td>\n",
       "      <td>521</td>\n",
       "      <td>6000.0</td>\n",
       "      <td>3500</td>\n",
       "      <td>0.0</td>\n",
       "      <td>CHROME9</td>\n",
       "      <td>3 o menos TC</td>\n",
       "    </tr>\n",
       "    <tr>\n",
       "      <th>298</th>\n",
       "      <td>299</td>\n",
       "      <td>29.0</td>\n",
       "      <td>3000.0</td>\n",
       "      <td>3000.0</td>\n",
       "      <td>Mujer</td>\n",
       "      <td>0</td>\n",
       "      <td>1</td>\n",
       "      <td>Universidad</td>\n",
       "      <td>529</td>\n",
       "      <td>10000.0</td>\n",
       "      <td>6000</td>\n",
       "      <td>1.0</td>\n",
       "      <td>CHROME_MOBILE</td>\n",
       "      <td>3 o menos TC</td>\n",
       "    </tr>\n",
       "    <tr>\n",
       "      <th>299</th>\n",
       "      <td>300</td>\n",
       "      <td>29.0</td>\n",
       "      <td>3000.0</td>\n",
       "      <td>3165.0</td>\n",
       "      <td>Mujer</td>\n",
       "      <td>0</td>\n",
       "      <td>0</td>\n",
       "      <td>Preparatoria</td>\n",
       "      <td>602</td>\n",
       "      <td>6000.0</td>\n",
       "      <td>4000</td>\n",
       "      <td>1.0</td>\n",
       "      <td>CHROME_MOBILE</td>\n",
       "      <td>UNKNOWN</td>\n",
       "    </tr>\n",
       "  </tbody>\n",
       "</table>\n",
       "<p>300 rows × 14 columns</p>\n",
       "</div>"
      ],
      "text/plain": [
       "      ID  edad  montoSolicitado  montoOtorgado  genero  quincenal  \\\n",
       "0      1  30.0          20000.0        40000.0  Hombre          1   \n",
       "1      2  31.0           2000.0         2000.0  Hombre          0   \n",
       "2      3  29.0          15000.0        15000.0   Mujer          0   \n",
       "3      4  20.0           7000.0         6000.0   Mujer          0   \n",
       "4      5  34.0          18000.0        12999.0  Hombre          1   \n",
       "..   ...   ...              ...            ...     ...        ...   \n",
       "295  296  27.0           1779.0         1779.0   Mujer          1   \n",
       "296  297  36.0          19700.0        19700.0   Mujer          0   \n",
       "297  298  49.0           6000.0         3000.0  Hombre          1   \n",
       "298  299  29.0           3000.0         3000.0   Mujer          0   \n",
       "299  300  29.0           3000.0         3165.0   Mujer          0   \n",
       "\n",
       "     dependientesEconomicos  nivelEstudio  fico  ingresosMensuales  \\\n",
       "0                         0   Universidad   575            25000.0   \n",
       "1                         4  Preparatoria   635            12000.0   \n",
       "2                         0   Universidad   568            20000.0   \n",
       "3                         1  Preparatoria   643             2000.0   \n",
       "4                         1   Universidad   546            50000.0   \n",
       "..                      ...           ...   ...                ...   \n",
       "295                       0   Universidad   511            38000.0   \n",
       "296                       0   Universidad   491            32000.0   \n",
       "297                       1  Preparatoria   521             6000.0   \n",
       "298                       1   Universidad   529            10000.0   \n",
       "299                       0  Preparatoria   602             6000.0   \n",
       "\n",
       "     gastosMensuales  emailScore        browser     NUMTDC_AV  \n",
       "0              15000         1.0        UNKNOWN  3 o menos TC  \n",
       "1               8000         8.0        CHROME9       UNKNOWN  \n",
       "2              14000         0.0  CHROME_MOBILE  3 o menos TC  \n",
       "3               6000         1.0  CHROME_MOBILE       UNKNOWN  \n",
       "4              30000         0.0  APPLE_WEB_KIT  3 o menos TC  \n",
       "..               ...         ...            ...           ...  \n",
       "295            20000         8.0        CHROME9   Mas de 3 TC  \n",
       "296            17000         0.0  CHROME_MOBILE  3 o menos TC  \n",
       "297             3500         0.0        CHROME9  3 o menos TC  \n",
       "298             6000         1.0  CHROME_MOBILE  3 o menos TC  \n",
       "299             4000         1.0  CHROME_MOBILE       UNKNOWN  \n",
       "\n",
       "[300 rows x 14 columns]"
      ]
     },
     "execution_count": 748,
     "metadata": {},
     "output_type": "execute_result"
    }
   ],
   "source": [
    "# Cargamos\n",
    "test_data = pd.read_csv('raw_data/Test Data.csv')\n",
    "test_data_clean = clean_data(test_data)\n",
    "test_data_clean\n"
   ]
  },
  {
   "cell_type": "code",
   "execution_count": 749,
   "metadata": {},
   "outputs": [
    {
     "data": {
      "text/html": [
       "<div>\n",
       "<style scoped>\n",
       "    .dataframe tbody tr th:only-of-type {\n",
       "        vertical-align: middle;\n",
       "    }\n",
       "\n",
       "    .dataframe tbody tr th {\n",
       "        vertical-align: top;\n",
       "    }\n",
       "\n",
       "    .dataframe thead th {\n",
       "        text-align: right;\n",
       "    }\n",
       "</style>\n",
       "<table border=\"1\" class=\"dataframe\">\n",
       "  <thead>\n",
       "    <tr style=\"text-align: right;\">\n",
       "      <th></th>\n",
       "      <th>ids</th>\n",
       "      <th>label</th>\n",
       "    </tr>\n",
       "  </thead>\n",
       "  <tbody>\n",
       "    <tr>\n",
       "      <th>0</th>\n",
       "      <td>1</td>\n",
       "      <td>0</td>\n",
       "    </tr>\n",
       "    <tr>\n",
       "      <th>1</th>\n",
       "      <td>2</td>\n",
       "      <td>1</td>\n",
       "    </tr>\n",
       "    <tr>\n",
       "      <th>2</th>\n",
       "      <td>3</td>\n",
       "      <td>0</td>\n",
       "    </tr>\n",
       "    <tr>\n",
       "      <th>3</th>\n",
       "      <td>4</td>\n",
       "      <td>1</td>\n",
       "    </tr>\n",
       "    <tr>\n",
       "      <th>4</th>\n",
       "      <td>5</td>\n",
       "      <td>0</td>\n",
       "    </tr>\n",
       "    <tr>\n",
       "      <th>...</th>\n",
       "      <td>...</td>\n",
       "      <td>...</td>\n",
       "    </tr>\n",
       "    <tr>\n",
       "      <th>295</th>\n",
       "      <td>296</td>\n",
       "      <td>1</td>\n",
       "    </tr>\n",
       "    <tr>\n",
       "      <th>296</th>\n",
       "      <td>297</td>\n",
       "      <td>1</td>\n",
       "    </tr>\n",
       "    <tr>\n",
       "      <th>297</th>\n",
       "      <td>298</td>\n",
       "      <td>1</td>\n",
       "    </tr>\n",
       "    <tr>\n",
       "      <th>298</th>\n",
       "      <td>299</td>\n",
       "      <td>1</td>\n",
       "    </tr>\n",
       "    <tr>\n",
       "      <th>299</th>\n",
       "      <td>300</td>\n",
       "      <td>1</td>\n",
       "    </tr>\n",
       "  </tbody>\n",
       "</table>\n",
       "<p>300 rows × 2 columns</p>\n",
       "</div>"
      ],
      "text/plain": [
       "     ids  label\n",
       "0      1      0\n",
       "1      2      1\n",
       "2      3      0\n",
       "3      4      1\n",
       "4      5      0\n",
       "..   ...    ...\n",
       "295  296      1\n",
       "296  297      1\n",
       "297  298      1\n",
       "298  299      1\n",
       "299  300      1\n",
       "\n",
       "[300 rows x 2 columns]"
      ]
     },
     "execution_count": 749,
     "metadata": {},
     "output_type": "execute_result"
    }
   ],
   "source": [
    "# no necesitamos la columna ID\n",
    "ids = test_data_clean.pop('ID')\n",
    "# creamos la columna Proporción de gasto\n",
    "test_data_clean['Proporción de gasto'] = test_data_clean['gastosMensuales']/test_data_clean['ingresosMensuales']\n",
    "y_pred_pos = rf_pipeline.predict_proba(test_data_clean)[:,1] # probabilidades de pertenecer a la clase 1\n",
    "y_pred_class = y_pred_pos > threshold\n",
    "y_pred_class\n",
    "\n",
    "pd.DataFrame({'ids':ids, 'label':y_pred_class.astype(int)})"
   ]
  },
  {
   "cell_type": "code",
   "execution_count": 751,
   "metadata": {},
   "outputs": [
    {
     "data": {
      "text/plain": [
       "0.38333333333333336"
      ]
     },
     "execution_count": 751,
     "metadata": {},
     "output_type": "execute_result"
    }
   ],
   "source": [
    "y_pred_class.mean()"
   ]
  },
  {
   "cell_type": "markdown",
   "metadata": {},
   "source": [
    "#\n",
    "take away \n",
    "crear la columna is_mobile"
   ]
  }
 ],
 "metadata": {
  "interpreter": {
   "hash": "9bba1a785b41403a72617b5e93bf5469c2b8f02a82d56c5a51b03661c38743c0"
  },
  "kernelspec": {
   "display_name": "Python 3.10.0 ('venv': venv)",
   "language": "python",
   "name": "python3"
  },
  "language_info": {
   "codemirror_mode": {
    "name": "ipython",
    "version": 3
   },
   "file_extension": ".py",
   "mimetype": "text/x-python",
   "name": "python",
   "nbconvert_exporter": "python",
   "pygments_lexer": "ipython3",
   "version": "3.10.0"
  },
  "orig_nbformat": 4
 },
 "nbformat": 4,
 "nbformat_minor": 2
}
